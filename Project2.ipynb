{
  "nbformat": 4,
  "nbformat_minor": 0,
  "metadata": {
    "colab": {
      "provenance": [],
      "include_colab_link": true
    },
    "kernelspec": {
      "name": "python3",
      "display_name": "Python 3"
    },
    "language_info": {
      "name": "python"
    }
  },
  "cells": [
    {
      "cell_type": "markdown",
      "metadata": {
        "id": "view-in-github",
        "colab_type": "text"
      },
      "source": [
        "<a href=\"https://colab.research.google.com/github/laurenchlebove/CS381/blob/main/Project2.ipynb\" target=\"_parent\"><img src=\"https://colab.research.google.com/assets/colab-badge.svg\" alt=\"Open In Colab\"/></a>"
      ]
    },
    {
      "cell_type": "markdown",
      "source": [
        "<h2>Exploratory Data Analysis of NFL Combine and Pro Day Data from 1987 - 2021 Dataset</h2>\n",
        "\n",
        "<h3>Part 1: Introduction</h3>\n",
        "\n",
        "The NFL Combine and Pro Day Data tracks key metrics and attributes that professional coaches and scouts deem to be crucial in making decisions on whom they should draft to their organization. The <a href=\"https://usa.inquirer.net/75172/what-to-know-about-the-nfl-combine\">NFL Combine</a> is an invitation-only showcase event held annually at Lucas Oil Stadium in Indianapolis, Indiana for draft-eligible college athletes. These athletes are considered the top football prospects in the country. In addition, colleges and universities will hold their own \"combine\" in which their student athletes get to run a battery of tests in the same ilk as the NFL Combine. Scouts are invited to assess these athletes. Within this structure, the athletes get to showcase their skills in the comfort of their home stadium.\n",
        "\n",
        "The crowning jewel metric of the NFL Combine is the 40-yard dash. The analysis for this dataset will revolve around identifying attributes that positively correlate to a fast 40-yard dash. Note that the lower the number for the speed categories (40 yard, Shuttle, and Cone) is viewed as high-performing. For example a 40-yard time of 4.30 is viewed more favorably than a 4.50. \n",
        "\n",
        "\n",
        "<h3>Part 2: Data Summary</h3>\n",
        "The following <a href=\"https://github.com/josedv82/public_sport_science_datasets/tree/main/NFL%20Combine\">original dataset</a> contains 13230 rows and 13 attributes. These attributes are:\n",
        "\n",
        "* Year: The year of the combine. The years are from 1987 through 2021 (inclusive).\n",
        "* College: The college the athlete attends.\n",
        "* POS: The main position the athlete plays.\n",
        "* Height (in): Height of the athlete.\n",
        "* Weight (lbs): Weight of the athlete.\n",
        "* Wonderlic: An assessment used to measure cognitive and problem-solving activity. It is viewed by many as an IQ test translatable to sound decision-making in the field of play. The highest achievable score is 50 and the lowest is 0. \n",
        "* 40 Yard (sec): The seconds it takes to sprint 40-yards.\n",
        "* Bench Press: The number of times an athlete can bench 225 pounds in one set. \n",
        "* Vert Leap (in): The number of inches an athlete can jump **vertically** while flat-footed. \n",
        "* Broad Jump (in): The number of inches an athlete can jump **horizontally** while flat-footed. \n",
        "* Shuttle (sec): The time it takes in seconds, to sprint from a three-point stance,  five yards in one direction, then ten yards backwards in the other direction, and lastly five yards through the starting point. In total it covers 20 yards. \n",
        "* 3Cone (sec): A drill that consists of five-yard sprints and turns, that uses 3 cones to guide the athlete as they complete the L-shaped run. \n"
      ],
      "metadata": {
        "id": "oQcKUnfSDQkg"
      }
    },
    {
      "cell_type": "markdown",
      "source": [
        "<h3>Part 3: Data Cleaning and Feature Engineering</h3>"
      ],
      "metadata": {
        "id": "-_ti0lzbZamI"
      }
    },
    {
      "cell_type": "code",
      "source": [
        "import pandas as pd\n",
        "import seaborn as sns\n",
        "import numpy as np\n",
        "import matplotlib.pyplot as plt\n",
        "from sklearn.preprocessing import StandardScaler\n",
        "\n",
        "df = pd.read_csv(\"https://raw.githubusercontent.com/josedv82/public_sport_science_datasets/main/NFL%20Combine/NFL%20Combine%20and%20pro%20day%20data%20(1987%20-%202021).csv\")\n",
        "print(df.shape)\n",
        "df.tail()"
      ],
      "metadata": {
        "colab": {
          "base_uri": "https://localhost:8080/",
          "height": 355
        },
        "id": "z4gZfJJJFPQk",
        "outputId": "90862a99-f242-44ec-b55e-70a34f9dbdd4"
      },
      "execution_count": null,
      "outputs": [
        {
          "output_type": "stream",
          "name": "stdout",
          "text": [
            "(13230, 13)\n"
          ]
        },
        {
          "output_type": "execute_result",
          "data": {
            "text/plain": [
              "       Year             Name     College  POS  Height (in)  Weight (lbs)  \\\n",
              "13225  1987      Rod Woodson      Purdue   CB         72.0           202   \n",
              "13226  1987  John Wooldridge  Ohio State   RB         68.4           193   \n",
              "13227  1987       Dave Wyman    Stanford  ILB         74.0           235   \n",
              "13228  1987       Theo Young    Arkansas   TE         74.0           231   \n",
              "13229  1987   Jeff Zimmerman     Florida   OG         75.4           341   \n",
              "\n",
              "       Wonderlic  40 Yard  Bench Press  Vert Leap (in)  Broad Jump (in)  \\\n",
              "13225        NaN     4.33         10.0            36.0            125.0   \n",
              "13226        NaN      NaN          NaN             NaN              NaN   \n",
              "13227        NaN     4.79         23.0            29.0            118.0   \n",
              "13228        NaN     4.89          9.0            30.0            107.0   \n",
              "13229        NaN     5.36         22.0            22.5              NaN   \n",
              "\n",
              "       Shuttle  3Cone  \n",
              "13225     3.98    NaN  \n",
              "13226      NaN    NaN  \n",
              "13227     4.30    NaN  \n",
              "13228     4.20    NaN  \n",
              "13229     4.83    NaN  "
            ],
            "text/html": [
              "\n",
              "  <div id=\"df-ba4859fc-00be-47a2-9d7d-8da61b5134b9\">\n",
              "    <div class=\"colab-df-container\">\n",
              "      <div>\n",
              "<style scoped>\n",
              "    .dataframe tbody tr th:only-of-type {\n",
              "        vertical-align: middle;\n",
              "    }\n",
              "\n",
              "    .dataframe tbody tr th {\n",
              "        vertical-align: top;\n",
              "    }\n",
              "\n",
              "    .dataframe thead th {\n",
              "        text-align: right;\n",
              "    }\n",
              "</style>\n",
              "<table border=\"1\" class=\"dataframe\">\n",
              "  <thead>\n",
              "    <tr style=\"text-align: right;\">\n",
              "      <th></th>\n",
              "      <th>Year</th>\n",
              "      <th>Name</th>\n",
              "      <th>College</th>\n",
              "      <th>POS</th>\n",
              "      <th>Height (in)</th>\n",
              "      <th>Weight (lbs)</th>\n",
              "      <th>Wonderlic</th>\n",
              "      <th>40 Yard</th>\n",
              "      <th>Bench Press</th>\n",
              "      <th>Vert Leap (in)</th>\n",
              "      <th>Broad Jump (in)</th>\n",
              "      <th>Shuttle</th>\n",
              "      <th>3Cone</th>\n",
              "    </tr>\n",
              "  </thead>\n",
              "  <tbody>\n",
              "    <tr>\n",
              "      <th>13225</th>\n",
              "      <td>1987</td>\n",
              "      <td>Rod Woodson</td>\n",
              "      <td>Purdue</td>\n",
              "      <td>CB</td>\n",
              "      <td>72.0</td>\n",
              "      <td>202</td>\n",
              "      <td>NaN</td>\n",
              "      <td>4.33</td>\n",
              "      <td>10.0</td>\n",
              "      <td>36.0</td>\n",
              "      <td>125.0</td>\n",
              "      <td>3.98</td>\n",
              "      <td>NaN</td>\n",
              "    </tr>\n",
              "    <tr>\n",
              "      <th>13226</th>\n",
              "      <td>1987</td>\n",
              "      <td>John Wooldridge</td>\n",
              "      <td>Ohio State</td>\n",
              "      <td>RB</td>\n",
              "      <td>68.4</td>\n",
              "      <td>193</td>\n",
              "      <td>NaN</td>\n",
              "      <td>NaN</td>\n",
              "      <td>NaN</td>\n",
              "      <td>NaN</td>\n",
              "      <td>NaN</td>\n",
              "      <td>NaN</td>\n",
              "      <td>NaN</td>\n",
              "    </tr>\n",
              "    <tr>\n",
              "      <th>13227</th>\n",
              "      <td>1987</td>\n",
              "      <td>Dave Wyman</td>\n",
              "      <td>Stanford</td>\n",
              "      <td>ILB</td>\n",
              "      <td>74.0</td>\n",
              "      <td>235</td>\n",
              "      <td>NaN</td>\n",
              "      <td>4.79</td>\n",
              "      <td>23.0</td>\n",
              "      <td>29.0</td>\n",
              "      <td>118.0</td>\n",
              "      <td>4.30</td>\n",
              "      <td>NaN</td>\n",
              "    </tr>\n",
              "    <tr>\n",
              "      <th>13228</th>\n",
              "      <td>1987</td>\n",
              "      <td>Theo Young</td>\n",
              "      <td>Arkansas</td>\n",
              "      <td>TE</td>\n",
              "      <td>74.0</td>\n",
              "      <td>231</td>\n",
              "      <td>NaN</td>\n",
              "      <td>4.89</td>\n",
              "      <td>9.0</td>\n",
              "      <td>30.0</td>\n",
              "      <td>107.0</td>\n",
              "      <td>4.20</td>\n",
              "      <td>NaN</td>\n",
              "    </tr>\n",
              "    <tr>\n",
              "      <th>13229</th>\n",
              "      <td>1987</td>\n",
              "      <td>Jeff Zimmerman</td>\n",
              "      <td>Florida</td>\n",
              "      <td>OG</td>\n",
              "      <td>75.4</td>\n",
              "      <td>341</td>\n",
              "      <td>NaN</td>\n",
              "      <td>5.36</td>\n",
              "      <td>22.0</td>\n",
              "      <td>22.5</td>\n",
              "      <td>NaN</td>\n",
              "      <td>4.83</td>\n",
              "      <td>NaN</td>\n",
              "    </tr>\n",
              "  </tbody>\n",
              "</table>\n",
              "</div>\n",
              "      <button class=\"colab-df-convert\" onclick=\"convertToInteractive('df-ba4859fc-00be-47a2-9d7d-8da61b5134b9')\"\n",
              "              title=\"Convert this dataframe to an interactive table.\"\n",
              "              style=\"display:none;\">\n",
              "        \n",
              "  <svg xmlns=\"http://www.w3.org/2000/svg\" height=\"24px\"viewBox=\"0 0 24 24\"\n",
              "       width=\"24px\">\n",
              "    <path d=\"M0 0h24v24H0V0z\" fill=\"none\"/>\n",
              "    <path d=\"M18.56 5.44l.94 2.06.94-2.06 2.06-.94-2.06-.94-.94-2.06-.94 2.06-2.06.94zm-11 1L8.5 8.5l.94-2.06 2.06-.94-2.06-.94L8.5 2.5l-.94 2.06-2.06.94zm10 10l.94 2.06.94-2.06 2.06-.94-2.06-.94-.94-2.06-.94 2.06-2.06.94z\"/><path d=\"M17.41 7.96l-1.37-1.37c-.4-.4-.92-.59-1.43-.59-.52 0-1.04.2-1.43.59L10.3 9.45l-7.72 7.72c-.78.78-.78 2.05 0 2.83L4 21.41c.39.39.9.59 1.41.59.51 0 1.02-.2 1.41-.59l7.78-7.78 2.81-2.81c.8-.78.8-2.07 0-2.86zM5.41 20L4 18.59l7.72-7.72 1.47 1.35L5.41 20z\"/>\n",
              "  </svg>\n",
              "      </button>\n",
              "      \n",
              "  <style>\n",
              "    .colab-df-container {\n",
              "      display:flex;\n",
              "      flex-wrap:wrap;\n",
              "      gap: 12px;\n",
              "    }\n",
              "\n",
              "    .colab-df-convert {\n",
              "      background-color: #E8F0FE;\n",
              "      border: none;\n",
              "      border-radius: 50%;\n",
              "      cursor: pointer;\n",
              "      display: none;\n",
              "      fill: #1967D2;\n",
              "      height: 32px;\n",
              "      padding: 0 0 0 0;\n",
              "      width: 32px;\n",
              "    }\n",
              "\n",
              "    .colab-df-convert:hover {\n",
              "      background-color: #E2EBFA;\n",
              "      box-shadow: 0px 1px 2px rgba(60, 64, 67, 0.3), 0px 1px 3px 1px rgba(60, 64, 67, 0.15);\n",
              "      fill: #174EA6;\n",
              "    }\n",
              "\n",
              "    [theme=dark] .colab-df-convert {\n",
              "      background-color: #3B4455;\n",
              "      fill: #D2E3FC;\n",
              "    }\n",
              "\n",
              "    [theme=dark] .colab-df-convert:hover {\n",
              "      background-color: #434B5C;\n",
              "      box-shadow: 0px 1px 3px 1px rgba(0, 0, 0, 0.15);\n",
              "      filter: drop-shadow(0px 1px 2px rgba(0, 0, 0, 0.3));\n",
              "      fill: #FFFFFF;\n",
              "    }\n",
              "  </style>\n",
              "\n",
              "      <script>\n",
              "        const buttonEl =\n",
              "          document.querySelector('#df-ba4859fc-00be-47a2-9d7d-8da61b5134b9 button.colab-df-convert');\n",
              "        buttonEl.style.display =\n",
              "          google.colab.kernel.accessAllowed ? 'block' : 'none';\n",
              "\n",
              "        async function convertToInteractive(key) {\n",
              "          const element = document.querySelector('#df-ba4859fc-00be-47a2-9d7d-8da61b5134b9');\n",
              "          const dataTable =\n",
              "            await google.colab.kernel.invokeFunction('convertToInteractive',\n",
              "                                                     [key], {});\n",
              "          if (!dataTable) return;\n",
              "\n",
              "          const docLinkHtml = 'Like what you see? Visit the ' +\n",
              "            '<a target=\"_blank\" href=https://colab.research.google.com/notebooks/data_table.ipynb>data table notebook</a>'\n",
              "            + ' to learn more about interactive tables.';\n",
              "          element.innerHTML = '';\n",
              "          dataTable['output_type'] = 'display_data';\n",
              "          await google.colab.output.renderOutput(dataTable, element);\n",
              "          const docLink = document.createElement('div');\n",
              "          docLink.innerHTML = docLinkHtml;\n",
              "          element.appendChild(docLink);\n",
              "        }\n",
              "      </script>\n",
              "    </div>\n",
              "  </div>\n",
              "  "
            ]
          },
          "metadata": {},
          "execution_count": 41
        }
      ]
    },
    {
      "cell_type": "code",
      "source": [
        "#Add a metric description to a few column names for easier read.  \n",
        "df = df.rename(columns={'40 Yard': '40 Yard (sec)', 'Shuttle': 'Shuttle (sec)', '3Cone': '3Cone (sec)'})"
      ],
      "metadata": {
        "id": "Q05P3MIPOrK1"
      },
      "execution_count": null,
      "outputs": []
    },
    {
      "cell_type": "code",
      "source": [
        "#Here we are identifying the total number of nulls for each category.\n",
        "df.isnull().sum()"
      ],
      "metadata": {
        "colab": {
          "base_uri": "https://localhost:8080/"
        },
        "id": "GASg7BATadgj",
        "outputId": "6d7490a3-9cf3-4840-d2b3-38d00a196179"
      },
      "execution_count": null,
      "outputs": [
        {
          "output_type": "execute_result",
          "data": {
            "text/plain": [
              "Year                   0\n",
              "Name                   0\n",
              "College                5\n",
              "POS                    0\n",
              "Height (in)            0\n",
              "Weight (lbs)           0\n",
              "Wonderlic          12799\n",
              "40 Yard (sec)       1343\n",
              "Bench Press         3409\n",
              "Vert Leap (in)      1795\n",
              "Broad Jump (in)     1902\n",
              "Shuttle (sec)       2639\n",
              "3Cone (sec)         5295\n",
              "dtype: int64"
            ]
          },
          "metadata": {},
          "execution_count": 43
        }
      ]
    },
    {
      "cell_type": "code",
      "source": [
        "df[\"POS\"].unique()"
      ],
      "metadata": {
        "colab": {
          "base_uri": "https://localhost:8080/"
        },
        "id": "_ZN-L37buzWx",
        "outputId": "33b40762-55b0-4c4d-89d1-2acbfd7d21fc"
      },
      "execution_count": null,
      "outputs": [
        {
          "output_type": "execute_result",
          "data": {
            "text/plain": [
              "array(['WR', 'CB', 'FS', 'OG', 'RB', 'TE', 'ILB', 'OT', 'DE', 'FB', 'OLB',\n",
              "       'C', 'LS', 'DT', 'QB', 'K', 'SS', 'P', 'S', 'LB', 'EDG', 'OL',\n",
              "       'DB', 'DL', 'NT'], dtype=object)"
            ]
          },
          "metadata": {},
          "execution_count": 44
        }
      ]
    },
    {
      "cell_type": "markdown",
      "source": [
        "By extracting the values from the \"POS\" (position) column, we can see that there are 25 unique positions which, based on information from <a href=\"https://www.rookieroad.com/football/positions/\">this site</a>, stand for:\n",
        "\n",
        "* WR = wide reciever\n",
        "* CB = cornerback\n",
        "* FS = free safety\n",
        "* OG = offensive guard\n",
        "* RB = running back\n",
        "* TE = tight end\n",
        "* ILB = inside linebacker\n",
        "* OT = offensive tackle\n",
        "* DE = defensive end\n",
        "* FB = fullback\n",
        "* OLB = outside linebacker\n",
        "* C = center\n",
        "* LS = long snapper\n",
        "* DT = defensive tackle\n",
        "* QB = quarterback\n",
        "* K = kicker\n",
        "* SS = strong safety\n",
        "* P = punter\n",
        "* S = safety\n",
        "* LB = linebacker\n",
        "* EDG = edge rusher\n",
        "* OL = offensive lineman\n",
        "* DB = defensive back\n",
        "* DL = defensive lineman\n",
        "* NT = nose tackle\n",
        "\n",
        "It should be noted that these are not necessarily 25 unique positions in the sport of football, but rather categories by which the players identify themselves. For example, some players recorded their position as \"NT\" or nose tackle. However, in football, the nose tackle is part of the defensive line, so these players could just as easily have identified themselves as \"DL\", or defensive linemen. It likely depends on how they individually wish to market their skillset in order to seem more attractive to scounts looking to draft NFL players.\n",
        "\n",
        "Because there are so many different potential positions with unclear boundries between each category, it seems prudent to simply create a new attribute \"Part of Game\", which assigns one of two values to the player based on their position: \"LOS\" or \"NLOS\", standing for line of scrimmage vs. non-line of scrimmage.\n",
        "\n",
        "In football, the players who play at the line of scrimmage are those who do the brunt of the blocking, pushing, and tackling. They do not run for the most part, as they usually physically opposed by the opposite team. As such, these players tend to be bigger so as to maximize their blocking power. Some positions which operate on the line of scrimmage include offensive lineman, defensive lineman, and linebacker, to name a few. Non-line of scrimmage players is a slightly looser category. It includes positions like wide reciever, which involves lots of running and catching, and punter, which does neither. While the quarterback and the long snapper both operate relatively near the line of scrimmage, as opposed to, say, a wide reciever, we still categorize both as part of the non-line of scrimmage players, because in general their job is completely different to that of the players who are directly on the line of scrimmage, physically holding off the opposing team.\n",
        "\n",
        "The full categorization of the positions is as follows:\n",
        "\n",
        "<u>Non-Line of Scrimmage (NLOS)</u>: QB (quarterback), RB (running back), WR (wide reciever), CB (cornerback), FS (free safety), SS (strong safety), DB (defensive back), FB (fullback), K (kicker), P (punter), LS (long snapper), S (safety), TE (tight end)\n",
        "\n",
        "<u>Line of Scrimmage (LOS)</u>: C (center), NT (nose tackle), DT (defensive tackle), OT (offensive tackle), OL (offensive linemen), DL (defensive linemen), DE (defensive end), OG (offensive guard), ILB (inside linebacker), OLB (outside linebacker), LB (linebacker), EDG (edge rusher)\n",
        "\n",
        "By separating the data in this way, we are more easily able to convert the categorical data of position into a binary framework to compare with the other numerical attributes."
      ],
      "metadata": {
        "id": "q4bjA8DPAxqo"
      }
    },
    {
      "cell_type": "code",
      "source": [
        "los_list = []\n",
        "\n",
        "for x in df[\"POS\"]:\n",
        "  if (x == \"C\" or x == \"NT\" or x == \"DT\" or x == \"OT\" or x == \"OL\" or x == \"DL\" or x == \"DE\" or \n",
        "  x == \"OG\" or x == \"ILB\" or x == \"OLB\" or x == \"LB\" or x == \"EDG\"):\n",
        "    los_list.append(\"LOS\")\n",
        "  else:\n",
        "    los_list.append(\"NLOS\")\n",
        "\n",
        "df[\"Part of Game\"] = los_list\n",
        "\n",
        "df.head(10)"
      ],
      "metadata": {
        "colab": {
          "base_uri": "https://localhost:8080/",
          "height": 633
        },
        "id": "c_PH3zgMJ37e",
        "outputId": "913e5e1a-41d1-4c27-e779-2680fcfa52e4"
      },
      "execution_count": null,
      "outputs": [
        {
          "output_type": "execute_result",
          "data": {
            "text/plain": [
              "   Year            Name               College  POS  Height (in)  Weight (lbs)  \\\n",
              "0  2021  Jonathan Adams        Arkansas State   WR        74.00           210   \n",
              "1  2021   Paulson Adebo              Stanford   CB        73.00           198   \n",
              "2  2021    DAngelo Amos              Virginia   FS        71.75           191   \n",
              "3  2021   Jack Anderson            Texas Tech   OG        76.63           314   \n",
              "4  2021   Otis Anderson       Central Florida   RB        67.50           179   \n",
              "5  2021  Zayne Anderson         Brigham Young   FS        73.88           206   \n",
              "6  2021   Cary Angeline  North Carolina State   TE        78.50           245   \n",
              "7  2021  Rayshard Ashby         Virginia Tech  ILB        70.25           232   \n",
              "8  2021   Calvin Ashley           Florida A&M   OT        78.13           314   \n",
              "9  2021     Tutu Atwell            Louisville   WR        68.88           155   \n",
              "\n",
              "   Wonderlic  40 Yard (sec)  Bench Press  Vert Leap (in)  Broad Jump (in)  \\\n",
              "0        NaN           4.59          NaN            39.0            132.0   \n",
              "1        NaN           4.45         18.0            36.5            121.0   \n",
              "2        NaN           4.58         11.0            34.5            119.0   \n",
              "3        NaN           5.27         27.0            29.5            105.0   \n",
              "4        NaN           4.65         11.0            36.0            113.0   \n",
              "5        NaN           4.44         11.0            34.0            120.0   \n",
              "6        NaN           4.89         12.0            29.0            109.0   \n",
              "7        NaN           4.93         24.0            31.5            114.0   \n",
              "8        NaN           5.55         15.0            29.0            105.0   \n",
              "9        NaN           4.39          NaN            33.0            117.0   \n",
              "\n",
              "   Shuttle (sec)  3Cone (sec) Part of Game  \n",
              "0           4.38         7.04         NLOS  \n",
              "1           4.13         6.69         NLOS  \n",
              "2           4.33         6.98         NLOS  \n",
              "3           4.83         7.88          LOS  \n",
              "4           4.42         7.04         NLOS  \n",
              "5           4.20         6.78         NLOS  \n",
              "6           4.59         7.19         NLOS  \n",
              "7           4.32         7.17          LOS  \n",
              "8           5.00         8.46          LOS  \n",
              "9           4.09         6.87         NLOS  "
            ],
            "text/html": [
              "\n",
              "  <div id=\"df-a234fc56-6641-453f-97e1-3df88f563f09\">\n",
              "    <div class=\"colab-df-container\">\n",
              "      <div>\n",
              "<style scoped>\n",
              "    .dataframe tbody tr th:only-of-type {\n",
              "        vertical-align: middle;\n",
              "    }\n",
              "\n",
              "    .dataframe tbody tr th {\n",
              "        vertical-align: top;\n",
              "    }\n",
              "\n",
              "    .dataframe thead th {\n",
              "        text-align: right;\n",
              "    }\n",
              "</style>\n",
              "<table border=\"1\" class=\"dataframe\">\n",
              "  <thead>\n",
              "    <tr style=\"text-align: right;\">\n",
              "      <th></th>\n",
              "      <th>Year</th>\n",
              "      <th>Name</th>\n",
              "      <th>College</th>\n",
              "      <th>POS</th>\n",
              "      <th>Height (in)</th>\n",
              "      <th>Weight (lbs)</th>\n",
              "      <th>Wonderlic</th>\n",
              "      <th>40 Yard (sec)</th>\n",
              "      <th>Bench Press</th>\n",
              "      <th>Vert Leap (in)</th>\n",
              "      <th>Broad Jump (in)</th>\n",
              "      <th>Shuttle (sec)</th>\n",
              "      <th>3Cone (sec)</th>\n",
              "      <th>Part of Game</th>\n",
              "    </tr>\n",
              "  </thead>\n",
              "  <tbody>\n",
              "    <tr>\n",
              "      <th>0</th>\n",
              "      <td>2021</td>\n",
              "      <td>Jonathan Adams</td>\n",
              "      <td>Arkansas State</td>\n",
              "      <td>WR</td>\n",
              "      <td>74.00</td>\n",
              "      <td>210</td>\n",
              "      <td>NaN</td>\n",
              "      <td>4.59</td>\n",
              "      <td>NaN</td>\n",
              "      <td>39.0</td>\n",
              "      <td>132.0</td>\n",
              "      <td>4.38</td>\n",
              "      <td>7.04</td>\n",
              "      <td>NLOS</td>\n",
              "    </tr>\n",
              "    <tr>\n",
              "      <th>1</th>\n",
              "      <td>2021</td>\n",
              "      <td>Paulson Adebo</td>\n",
              "      <td>Stanford</td>\n",
              "      <td>CB</td>\n",
              "      <td>73.00</td>\n",
              "      <td>198</td>\n",
              "      <td>NaN</td>\n",
              "      <td>4.45</td>\n",
              "      <td>18.0</td>\n",
              "      <td>36.5</td>\n",
              "      <td>121.0</td>\n",
              "      <td>4.13</td>\n",
              "      <td>6.69</td>\n",
              "      <td>NLOS</td>\n",
              "    </tr>\n",
              "    <tr>\n",
              "      <th>2</th>\n",
              "      <td>2021</td>\n",
              "      <td>DAngelo Amos</td>\n",
              "      <td>Virginia</td>\n",
              "      <td>FS</td>\n",
              "      <td>71.75</td>\n",
              "      <td>191</td>\n",
              "      <td>NaN</td>\n",
              "      <td>4.58</td>\n",
              "      <td>11.0</td>\n",
              "      <td>34.5</td>\n",
              "      <td>119.0</td>\n",
              "      <td>4.33</td>\n",
              "      <td>6.98</td>\n",
              "      <td>NLOS</td>\n",
              "    </tr>\n",
              "    <tr>\n",
              "      <th>3</th>\n",
              "      <td>2021</td>\n",
              "      <td>Jack Anderson</td>\n",
              "      <td>Texas Tech</td>\n",
              "      <td>OG</td>\n",
              "      <td>76.63</td>\n",
              "      <td>314</td>\n",
              "      <td>NaN</td>\n",
              "      <td>5.27</td>\n",
              "      <td>27.0</td>\n",
              "      <td>29.5</td>\n",
              "      <td>105.0</td>\n",
              "      <td>4.83</td>\n",
              "      <td>7.88</td>\n",
              "      <td>LOS</td>\n",
              "    </tr>\n",
              "    <tr>\n",
              "      <th>4</th>\n",
              "      <td>2021</td>\n",
              "      <td>Otis Anderson</td>\n",
              "      <td>Central Florida</td>\n",
              "      <td>RB</td>\n",
              "      <td>67.50</td>\n",
              "      <td>179</td>\n",
              "      <td>NaN</td>\n",
              "      <td>4.65</td>\n",
              "      <td>11.0</td>\n",
              "      <td>36.0</td>\n",
              "      <td>113.0</td>\n",
              "      <td>4.42</td>\n",
              "      <td>7.04</td>\n",
              "      <td>NLOS</td>\n",
              "    </tr>\n",
              "    <tr>\n",
              "      <th>5</th>\n",
              "      <td>2021</td>\n",
              "      <td>Zayne Anderson</td>\n",
              "      <td>Brigham Young</td>\n",
              "      <td>FS</td>\n",
              "      <td>73.88</td>\n",
              "      <td>206</td>\n",
              "      <td>NaN</td>\n",
              "      <td>4.44</td>\n",
              "      <td>11.0</td>\n",
              "      <td>34.0</td>\n",
              "      <td>120.0</td>\n",
              "      <td>4.20</td>\n",
              "      <td>6.78</td>\n",
              "      <td>NLOS</td>\n",
              "    </tr>\n",
              "    <tr>\n",
              "      <th>6</th>\n",
              "      <td>2021</td>\n",
              "      <td>Cary Angeline</td>\n",
              "      <td>North Carolina State</td>\n",
              "      <td>TE</td>\n",
              "      <td>78.50</td>\n",
              "      <td>245</td>\n",
              "      <td>NaN</td>\n",
              "      <td>4.89</td>\n",
              "      <td>12.0</td>\n",
              "      <td>29.0</td>\n",
              "      <td>109.0</td>\n",
              "      <td>4.59</td>\n",
              "      <td>7.19</td>\n",
              "      <td>NLOS</td>\n",
              "    </tr>\n",
              "    <tr>\n",
              "      <th>7</th>\n",
              "      <td>2021</td>\n",
              "      <td>Rayshard Ashby</td>\n",
              "      <td>Virginia Tech</td>\n",
              "      <td>ILB</td>\n",
              "      <td>70.25</td>\n",
              "      <td>232</td>\n",
              "      <td>NaN</td>\n",
              "      <td>4.93</td>\n",
              "      <td>24.0</td>\n",
              "      <td>31.5</td>\n",
              "      <td>114.0</td>\n",
              "      <td>4.32</td>\n",
              "      <td>7.17</td>\n",
              "      <td>LOS</td>\n",
              "    </tr>\n",
              "    <tr>\n",
              "      <th>8</th>\n",
              "      <td>2021</td>\n",
              "      <td>Calvin Ashley</td>\n",
              "      <td>Florida A&amp;M</td>\n",
              "      <td>OT</td>\n",
              "      <td>78.13</td>\n",
              "      <td>314</td>\n",
              "      <td>NaN</td>\n",
              "      <td>5.55</td>\n",
              "      <td>15.0</td>\n",
              "      <td>29.0</td>\n",
              "      <td>105.0</td>\n",
              "      <td>5.00</td>\n",
              "      <td>8.46</td>\n",
              "      <td>LOS</td>\n",
              "    </tr>\n",
              "    <tr>\n",
              "      <th>9</th>\n",
              "      <td>2021</td>\n",
              "      <td>Tutu Atwell</td>\n",
              "      <td>Louisville</td>\n",
              "      <td>WR</td>\n",
              "      <td>68.88</td>\n",
              "      <td>155</td>\n",
              "      <td>NaN</td>\n",
              "      <td>4.39</td>\n",
              "      <td>NaN</td>\n",
              "      <td>33.0</td>\n",
              "      <td>117.0</td>\n",
              "      <td>4.09</td>\n",
              "      <td>6.87</td>\n",
              "      <td>NLOS</td>\n",
              "    </tr>\n",
              "  </tbody>\n",
              "</table>\n",
              "</div>\n",
              "      <button class=\"colab-df-convert\" onclick=\"convertToInteractive('df-a234fc56-6641-453f-97e1-3df88f563f09')\"\n",
              "              title=\"Convert this dataframe to an interactive table.\"\n",
              "              style=\"display:none;\">\n",
              "        \n",
              "  <svg xmlns=\"http://www.w3.org/2000/svg\" height=\"24px\"viewBox=\"0 0 24 24\"\n",
              "       width=\"24px\">\n",
              "    <path d=\"M0 0h24v24H0V0z\" fill=\"none\"/>\n",
              "    <path d=\"M18.56 5.44l.94 2.06.94-2.06 2.06-.94-2.06-.94-.94-2.06-.94 2.06-2.06.94zm-11 1L8.5 8.5l.94-2.06 2.06-.94-2.06-.94L8.5 2.5l-.94 2.06-2.06.94zm10 10l.94 2.06.94-2.06 2.06-.94-2.06-.94-.94-2.06-.94 2.06-2.06.94z\"/><path d=\"M17.41 7.96l-1.37-1.37c-.4-.4-.92-.59-1.43-.59-.52 0-1.04.2-1.43.59L10.3 9.45l-7.72 7.72c-.78.78-.78 2.05 0 2.83L4 21.41c.39.39.9.59 1.41.59.51 0 1.02-.2 1.41-.59l7.78-7.78 2.81-2.81c.8-.78.8-2.07 0-2.86zM5.41 20L4 18.59l7.72-7.72 1.47 1.35L5.41 20z\"/>\n",
              "  </svg>\n",
              "      </button>\n",
              "      \n",
              "  <style>\n",
              "    .colab-df-container {\n",
              "      display:flex;\n",
              "      flex-wrap:wrap;\n",
              "      gap: 12px;\n",
              "    }\n",
              "\n",
              "    .colab-df-convert {\n",
              "      background-color: #E8F0FE;\n",
              "      border: none;\n",
              "      border-radius: 50%;\n",
              "      cursor: pointer;\n",
              "      display: none;\n",
              "      fill: #1967D2;\n",
              "      height: 32px;\n",
              "      padding: 0 0 0 0;\n",
              "      width: 32px;\n",
              "    }\n",
              "\n",
              "    .colab-df-convert:hover {\n",
              "      background-color: #E2EBFA;\n",
              "      box-shadow: 0px 1px 2px rgba(60, 64, 67, 0.3), 0px 1px 3px 1px rgba(60, 64, 67, 0.15);\n",
              "      fill: #174EA6;\n",
              "    }\n",
              "\n",
              "    [theme=dark] .colab-df-convert {\n",
              "      background-color: #3B4455;\n",
              "      fill: #D2E3FC;\n",
              "    }\n",
              "\n",
              "    [theme=dark] .colab-df-convert:hover {\n",
              "      background-color: #434B5C;\n",
              "      box-shadow: 0px 1px 3px 1px rgba(0, 0, 0, 0.15);\n",
              "      filter: drop-shadow(0px 1px 2px rgba(0, 0, 0, 0.3));\n",
              "      fill: #FFFFFF;\n",
              "    }\n",
              "  </style>\n",
              "\n",
              "      <script>\n",
              "        const buttonEl =\n",
              "          document.querySelector('#df-a234fc56-6641-453f-97e1-3df88f563f09 button.colab-df-convert');\n",
              "        buttonEl.style.display =\n",
              "          google.colab.kernel.accessAllowed ? 'block' : 'none';\n",
              "\n",
              "        async function convertToInteractive(key) {\n",
              "          const element = document.querySelector('#df-a234fc56-6641-453f-97e1-3df88f563f09');\n",
              "          const dataTable =\n",
              "            await google.colab.kernel.invokeFunction('convertToInteractive',\n",
              "                                                     [key], {});\n",
              "          if (!dataTable) return;\n",
              "\n",
              "          const docLinkHtml = 'Like what you see? Visit the ' +\n",
              "            '<a target=\"_blank\" href=https://colab.research.google.com/notebooks/data_table.ipynb>data table notebook</a>'\n",
              "            + ' to learn more about interactive tables.';\n",
              "          element.innerHTML = '';\n",
              "          dataTable['output_type'] = 'display_data';\n",
              "          await google.colab.output.renderOutput(dataTable, element);\n",
              "          const docLink = document.createElement('div');\n",
              "          docLink.innerHTML = docLinkHtml;\n",
              "          element.appendChild(docLink);\n",
              "        }\n",
              "      </script>\n",
              "    </div>\n",
              "  </div>\n",
              "  "
            ]
          },
          "metadata": {},
          "execution_count": 45
        }
      ]
    },
    {
      "cell_type": "code",
      "source": [
        "#Here are the data types of each attribute. We can identify the categorical types: Year, Name, College, Position. \n",
        "df.dtypes"
      ],
      "metadata": {
        "colab": {
          "base_uri": "https://localhost:8080/"
        },
        "id": "D2kB-xEecyh-",
        "outputId": "87652569-1031-4000-acdf-18914e3fbbaa"
      },
      "execution_count": null,
      "outputs": [
        {
          "output_type": "execute_result",
          "data": {
            "text/plain": [
              "Year                 int64\n",
              "Name                object\n",
              "College             object\n",
              "POS                 object\n",
              "Height (in)        float64\n",
              "Weight (lbs)         int64\n",
              "Wonderlic          float64\n",
              "40 Yard (sec)      float64\n",
              "Bench Press        float64\n",
              "Vert Leap (in)     float64\n",
              "Broad Jump (in)    float64\n",
              "Shuttle (sec)      float64\n",
              "3Cone (sec)        float64\n",
              "Part of Game        object\n",
              "dtype: object"
            ]
          },
          "metadata": {},
          "execution_count": 46
        }
      ]
    },
    {
      "cell_type": "markdown",
      "source": [
        "Now we can start to clean up the data. Here are some observations:\n",
        "1. There are lots of nulls for the Wonderlic Test. The reason is that it took some time for the test to gain traction in the NFL. Also, many athletes opt out of this test for a variety of reasons. Although it would be interesting to see the relationship between the Wonderlic test and the 40-yard dash, the data is too sparse. \n",
        "\n",
        "2. There are quite a few nulls for each of the numerical types. The reason is that athletes don't need to perform in all the drills. They can choose based on what will showcase their skills in the best light."
      ],
      "metadata": {
        "id": "avnwrSyqb-dV"
      }
    },
    {
      "cell_type": "code",
      "source": [
        "#1. Dropping the Wonderlic test\n",
        "df.drop('Wonderlic', axis=1, inplace=True)\n",
        "\n",
        "df.head()"
      ],
      "metadata": {
        "colab": {
          "base_uri": "https://localhost:8080/",
          "height": 372
        },
        "id": "P087SR4DadZU",
        "outputId": "1c17621a-eb06-45ed-ff8d-427c36048fce"
      },
      "execution_count": null,
      "outputs": [
        {
          "output_type": "execute_result",
          "data": {
            "text/plain": [
              "   Year            Name          College POS  Height (in)  Weight (lbs)  \\\n",
              "0  2021  Jonathan Adams   Arkansas State  WR        74.00           210   \n",
              "1  2021   Paulson Adebo         Stanford  CB        73.00           198   \n",
              "2  2021    DAngelo Amos         Virginia  FS        71.75           191   \n",
              "3  2021   Jack Anderson       Texas Tech  OG        76.63           314   \n",
              "4  2021   Otis Anderson  Central Florida  RB        67.50           179   \n",
              "\n",
              "   40 Yard (sec)  Bench Press  Vert Leap (in)  Broad Jump (in)  Shuttle (sec)  \\\n",
              "0           4.59          NaN            39.0            132.0           4.38   \n",
              "1           4.45         18.0            36.5            121.0           4.13   \n",
              "2           4.58         11.0            34.5            119.0           4.33   \n",
              "3           5.27         27.0            29.5            105.0           4.83   \n",
              "4           4.65         11.0            36.0            113.0           4.42   \n",
              "\n",
              "   3Cone (sec) Part of Game  \n",
              "0         7.04         NLOS  \n",
              "1         6.69         NLOS  \n",
              "2         6.98         NLOS  \n",
              "3         7.88          LOS  \n",
              "4         7.04         NLOS  "
            ],
            "text/html": [
              "\n",
              "  <div id=\"df-f3a2d281-757d-41c7-8213-d4b9253e484c\">\n",
              "    <div class=\"colab-df-container\">\n",
              "      <div>\n",
              "<style scoped>\n",
              "    .dataframe tbody tr th:only-of-type {\n",
              "        vertical-align: middle;\n",
              "    }\n",
              "\n",
              "    .dataframe tbody tr th {\n",
              "        vertical-align: top;\n",
              "    }\n",
              "\n",
              "    .dataframe thead th {\n",
              "        text-align: right;\n",
              "    }\n",
              "</style>\n",
              "<table border=\"1\" class=\"dataframe\">\n",
              "  <thead>\n",
              "    <tr style=\"text-align: right;\">\n",
              "      <th></th>\n",
              "      <th>Year</th>\n",
              "      <th>Name</th>\n",
              "      <th>College</th>\n",
              "      <th>POS</th>\n",
              "      <th>Height (in)</th>\n",
              "      <th>Weight (lbs)</th>\n",
              "      <th>40 Yard (sec)</th>\n",
              "      <th>Bench Press</th>\n",
              "      <th>Vert Leap (in)</th>\n",
              "      <th>Broad Jump (in)</th>\n",
              "      <th>Shuttle (sec)</th>\n",
              "      <th>3Cone (sec)</th>\n",
              "      <th>Part of Game</th>\n",
              "    </tr>\n",
              "  </thead>\n",
              "  <tbody>\n",
              "    <tr>\n",
              "      <th>0</th>\n",
              "      <td>2021</td>\n",
              "      <td>Jonathan Adams</td>\n",
              "      <td>Arkansas State</td>\n",
              "      <td>WR</td>\n",
              "      <td>74.00</td>\n",
              "      <td>210</td>\n",
              "      <td>4.59</td>\n",
              "      <td>NaN</td>\n",
              "      <td>39.0</td>\n",
              "      <td>132.0</td>\n",
              "      <td>4.38</td>\n",
              "      <td>7.04</td>\n",
              "      <td>NLOS</td>\n",
              "    </tr>\n",
              "    <tr>\n",
              "      <th>1</th>\n",
              "      <td>2021</td>\n",
              "      <td>Paulson Adebo</td>\n",
              "      <td>Stanford</td>\n",
              "      <td>CB</td>\n",
              "      <td>73.00</td>\n",
              "      <td>198</td>\n",
              "      <td>4.45</td>\n",
              "      <td>18.0</td>\n",
              "      <td>36.5</td>\n",
              "      <td>121.0</td>\n",
              "      <td>4.13</td>\n",
              "      <td>6.69</td>\n",
              "      <td>NLOS</td>\n",
              "    </tr>\n",
              "    <tr>\n",
              "      <th>2</th>\n",
              "      <td>2021</td>\n",
              "      <td>DAngelo Amos</td>\n",
              "      <td>Virginia</td>\n",
              "      <td>FS</td>\n",
              "      <td>71.75</td>\n",
              "      <td>191</td>\n",
              "      <td>4.58</td>\n",
              "      <td>11.0</td>\n",
              "      <td>34.5</td>\n",
              "      <td>119.0</td>\n",
              "      <td>4.33</td>\n",
              "      <td>6.98</td>\n",
              "      <td>NLOS</td>\n",
              "    </tr>\n",
              "    <tr>\n",
              "      <th>3</th>\n",
              "      <td>2021</td>\n",
              "      <td>Jack Anderson</td>\n",
              "      <td>Texas Tech</td>\n",
              "      <td>OG</td>\n",
              "      <td>76.63</td>\n",
              "      <td>314</td>\n",
              "      <td>5.27</td>\n",
              "      <td>27.0</td>\n",
              "      <td>29.5</td>\n",
              "      <td>105.0</td>\n",
              "      <td>4.83</td>\n",
              "      <td>7.88</td>\n",
              "      <td>LOS</td>\n",
              "    </tr>\n",
              "    <tr>\n",
              "      <th>4</th>\n",
              "      <td>2021</td>\n",
              "      <td>Otis Anderson</td>\n",
              "      <td>Central Florida</td>\n",
              "      <td>RB</td>\n",
              "      <td>67.50</td>\n",
              "      <td>179</td>\n",
              "      <td>4.65</td>\n",
              "      <td>11.0</td>\n",
              "      <td>36.0</td>\n",
              "      <td>113.0</td>\n",
              "      <td>4.42</td>\n",
              "      <td>7.04</td>\n",
              "      <td>NLOS</td>\n",
              "    </tr>\n",
              "  </tbody>\n",
              "</table>\n",
              "</div>\n",
              "      <button class=\"colab-df-convert\" onclick=\"convertToInteractive('df-f3a2d281-757d-41c7-8213-d4b9253e484c')\"\n",
              "              title=\"Convert this dataframe to an interactive table.\"\n",
              "              style=\"display:none;\">\n",
              "        \n",
              "  <svg xmlns=\"http://www.w3.org/2000/svg\" height=\"24px\"viewBox=\"0 0 24 24\"\n",
              "       width=\"24px\">\n",
              "    <path d=\"M0 0h24v24H0V0z\" fill=\"none\"/>\n",
              "    <path d=\"M18.56 5.44l.94 2.06.94-2.06 2.06-.94-2.06-.94-.94-2.06-.94 2.06-2.06.94zm-11 1L8.5 8.5l.94-2.06 2.06-.94-2.06-.94L8.5 2.5l-.94 2.06-2.06.94zm10 10l.94 2.06.94-2.06 2.06-.94-2.06-.94-.94-2.06-.94 2.06-2.06.94z\"/><path d=\"M17.41 7.96l-1.37-1.37c-.4-.4-.92-.59-1.43-.59-.52 0-1.04.2-1.43.59L10.3 9.45l-7.72 7.72c-.78.78-.78 2.05 0 2.83L4 21.41c.39.39.9.59 1.41.59.51 0 1.02-.2 1.41-.59l7.78-7.78 2.81-2.81c.8-.78.8-2.07 0-2.86zM5.41 20L4 18.59l7.72-7.72 1.47 1.35L5.41 20z\"/>\n",
              "  </svg>\n",
              "      </button>\n",
              "      \n",
              "  <style>\n",
              "    .colab-df-container {\n",
              "      display:flex;\n",
              "      flex-wrap:wrap;\n",
              "      gap: 12px;\n",
              "    }\n",
              "\n",
              "    .colab-df-convert {\n",
              "      background-color: #E8F0FE;\n",
              "      border: none;\n",
              "      border-radius: 50%;\n",
              "      cursor: pointer;\n",
              "      display: none;\n",
              "      fill: #1967D2;\n",
              "      height: 32px;\n",
              "      padding: 0 0 0 0;\n",
              "      width: 32px;\n",
              "    }\n",
              "\n",
              "    .colab-df-convert:hover {\n",
              "      background-color: #E2EBFA;\n",
              "      box-shadow: 0px 1px 2px rgba(60, 64, 67, 0.3), 0px 1px 3px 1px rgba(60, 64, 67, 0.15);\n",
              "      fill: #174EA6;\n",
              "    }\n",
              "\n",
              "    [theme=dark] .colab-df-convert {\n",
              "      background-color: #3B4455;\n",
              "      fill: #D2E3FC;\n",
              "    }\n",
              "\n",
              "    [theme=dark] .colab-df-convert:hover {\n",
              "      background-color: #434B5C;\n",
              "      box-shadow: 0px 1px 3px 1px rgba(0, 0, 0, 0.15);\n",
              "      filter: drop-shadow(0px 1px 2px rgba(0, 0, 0, 0.3));\n",
              "      fill: #FFFFFF;\n",
              "    }\n",
              "  </style>\n",
              "\n",
              "      <script>\n",
              "        const buttonEl =\n",
              "          document.querySelector('#df-f3a2d281-757d-41c7-8213-d4b9253e484c button.colab-df-convert');\n",
              "        buttonEl.style.display =\n",
              "          google.colab.kernel.accessAllowed ? 'block' : 'none';\n",
              "\n",
              "        async function convertToInteractive(key) {\n",
              "          const element = document.querySelector('#df-f3a2d281-757d-41c7-8213-d4b9253e484c');\n",
              "          const dataTable =\n",
              "            await google.colab.kernel.invokeFunction('convertToInteractive',\n",
              "                                                     [key], {});\n",
              "          if (!dataTable) return;\n",
              "\n",
              "          const docLinkHtml = 'Like what you see? Visit the ' +\n",
              "            '<a target=\"_blank\" href=https://colab.research.google.com/notebooks/data_table.ipynb>data table notebook</a>'\n",
              "            + ' to learn more about interactive tables.';\n",
              "          element.innerHTML = '';\n",
              "          dataTable['output_type'] = 'display_data';\n",
              "          await google.colab.output.renderOutput(dataTable, element);\n",
              "          const docLink = document.createElement('div');\n",
              "          docLink.innerHTML = docLinkHtml;\n",
              "          element.appendChild(docLink);\n",
              "        }\n",
              "      </script>\n",
              "    </div>\n",
              "  </div>\n",
              "  "
            ]
          },
          "metadata": {},
          "execution_count": 47
        }
      ]
    },
    {
      "cell_type": "markdown",
      "source": [
        "Given that college and year have little to no effect on the physical attributes we are primarily interested in (40 yard, Weight, Shuttle, etc.), we chose to eliminate those columns as well.\n"
      ],
      "metadata": {
        "id": "CQ2dsNcUy2_m"
      }
    },
    {
      "cell_type": "code",
      "source": [
        "df.drop('College', axis=1, inplace=True)\n",
        "df.drop('Year', axis=1, inplace=True)\n",
        "\n",
        "print(df.isnull().sum())"
      ],
      "metadata": {
        "id": "aTYBHiM1y44M",
        "colab": {
          "base_uri": "https://localhost:8080/"
        },
        "outputId": "9a7c0840-b29b-4c89-c0c7-f8c80a63a2e3"
      },
      "execution_count": null,
      "outputs": [
        {
          "output_type": "stream",
          "name": "stdout",
          "text": [
            "Name                  0\n",
            "POS                   0\n",
            "Height (in)           0\n",
            "Weight (lbs)          0\n",
            "40 Yard (sec)      1343\n",
            "Bench Press        3409\n",
            "Vert Leap (in)     1795\n",
            "Broad Jump (in)    1902\n",
            "Shuttle (sec)      2639\n",
            "3Cone (sec)        5295\n",
            "Part of Game          0\n",
            "dtype: int64\n"
          ]
        }
      ]
    },
    {
      "cell_type": "markdown",
      "source": [
        "We can see that over a third of the values for \"3Cone (sec)\" are missing. Since 3 Cone is a drill that tests agility, similar to Shuttle, we chose to remove the 3 Cone column, and keep the Shuttle column, because it has fewer null values, and we can still retain some measure of agility in our data."
      ],
      "metadata": {
        "id": "_ZZ6PG6XgkyJ"
      }
    },
    {
      "cell_type": "code",
      "source": [
        "df.drop('3Cone (sec)', axis=1, inplace=True)\n",
        "\n",
        "print(df.isnull().sum())"
      ],
      "metadata": {
        "colab": {
          "base_uri": "https://localhost:8080/"
        },
        "id": "iSaX0m5zhSV4",
        "outputId": "1c4fea50-9c33-4345-8825-49252280d9ea"
      },
      "execution_count": null,
      "outputs": [
        {
          "output_type": "stream",
          "name": "stdout",
          "text": [
            "Name                  0\n",
            "POS                   0\n",
            "Height (in)           0\n",
            "Weight (lbs)          0\n",
            "40 Yard (sec)      1343\n",
            "Bench Press        3409\n",
            "Vert Leap (in)     1795\n",
            "Broad Jump (in)    1902\n",
            "Shuttle (sec)      2639\n",
            "Part of Game          0\n",
            "dtype: int64\n"
          ]
        }
      ]
    },
    {
      "cell_type": "code",
      "source": [
        "#Since the response variable is the 40 yard dash, we should remove the variable's nulls as well. \n",
        "df = df.dropna(subset=['40 Yard (sec)'])\n",
        "print(df.isnull().sum())"
      ],
      "metadata": {
        "id": "Fc2qJU8nkKJB",
        "colab": {
          "base_uri": "https://localhost:8080/"
        },
        "outputId": "662304d0-be36-441f-d097-051d6fce2e73"
      },
      "execution_count": null,
      "outputs": [
        {
          "output_type": "stream",
          "name": "stdout",
          "text": [
            "Name                  0\n",
            "POS                   0\n",
            "Height (in)           0\n",
            "Weight (lbs)          0\n",
            "40 Yard (sec)         0\n",
            "Bench Press        2599\n",
            "Vert Leap (in)      641\n",
            "Broad Jump (in)     782\n",
            "Shuttle (sec)      1403\n",
            "Part of Game          0\n",
            "dtype: int64\n"
          ]
        }
      ]
    },
    {
      "cell_type": "code",
      "source": [
        "print(df.isnull().sum())\n",
        "#Now we can see that the 40 yard dash has no more nulls.\n",
        "\n",
        "print(\"Here is the worst time for the 40-yard dash: \", df['40 Yard (sec)'].max())\n",
        "print(\"Here is the best time for the 40-yard dash: \", df['40 Yard (sec)'].min())"
      ],
      "metadata": {
        "id": "fUm_ENMSpVNf",
        "colab": {
          "base_uri": "https://localhost:8080/"
        },
        "outputId": "0f3ea038-7385-455c-def2-5d43823b6e8a"
      },
      "execution_count": null,
      "outputs": [
        {
          "output_type": "stream",
          "name": "stdout",
          "text": [
            "Name                  0\n",
            "POS                   0\n",
            "Height (in)           0\n",
            "Weight (lbs)          0\n",
            "40 Yard (sec)         0\n",
            "Bench Press        2599\n",
            "Vert Leap (in)      641\n",
            "Broad Jump (in)     782\n",
            "Shuttle (sec)      1403\n",
            "Part of Game          0\n",
            "dtype: int64\n",
            "Here is the worst time for the 40-yard dash:  6.12\n",
            "Here is the best time for the 40-yard dash:  4.21\n"
          ]
        }
      ]
    },
    {
      "cell_type": "code",
      "source": [
        "#The bench press nulls are interesting because the faster athletes in the NFL tend to be lighter.\n",
        "#Many of them do not see any advantage in performing the bench press test.\n",
        "\n",
        "#Removing the nulls from the bench press variable. \n",
        "df = df.dropna(subset=['Bench Press'])\n",
        "df"
      ],
      "metadata": {
        "id": "jMy_9rMcrGhn",
        "colab": {
          "base_uri": "https://localhost:8080/",
          "height": 572
        },
        "outputId": "c8d1271f-8e88-4c23-8f0f-e20df652978c"
      },
      "execution_count": null,
      "outputs": [
        {
          "output_type": "execute_result",
          "data": {
            "text/plain": [
              "                 Name  POS  Height (in)  Weight (lbs)  40 Yard (sec)  \\\n",
              "1       Paulson Adebo   CB        73.00           198           4.45   \n",
              "2        DAngelo Amos   FS        71.75           191           4.58   \n",
              "3       Jack Anderson   OG        76.63           314           5.27   \n",
              "4       Otis Anderson   RB        67.50           179           4.65   \n",
              "5      Zayne Anderson   FS        73.88           206           4.44   \n",
              "...               ...  ...          ...           ...            ...   \n",
              "13224      Tony Woods   DE        74.80           249           4.85   \n",
              "13225     Rod Woodson   CB        72.00           202           4.33   \n",
              "13227      Dave Wyman  ILB        74.00           235           4.79   \n",
              "13228      Theo Young   TE        74.00           231           4.89   \n",
              "13229  Jeff Zimmerman   OG        75.40           341           5.36   \n",
              "\n",
              "       Bench Press  Vert Leap (in)  Broad Jump (in)  Shuttle (sec)  \\\n",
              "1             18.0            36.5            121.0           4.13   \n",
              "2             11.0            34.5            119.0           4.33   \n",
              "3             27.0            29.5            105.0           4.83   \n",
              "4             11.0            36.0            113.0           4.42   \n",
              "5             11.0            34.0            120.0           4.20   \n",
              "...            ...             ...              ...            ...   \n",
              "13224         18.0            29.0            115.0           4.55   \n",
              "13225         10.0            36.0            125.0           3.98   \n",
              "13227         23.0            29.0            118.0           4.30   \n",
              "13228          9.0            30.0            107.0           4.20   \n",
              "13229         22.0            22.5              NaN           4.83   \n",
              "\n",
              "      Part of Game  \n",
              "1             NLOS  \n",
              "2             NLOS  \n",
              "3              LOS  \n",
              "4             NLOS  \n",
              "5             NLOS  \n",
              "...            ...  \n",
              "13224          LOS  \n",
              "13225         NLOS  \n",
              "13227          LOS  \n",
              "13228         NLOS  \n",
              "13229          LOS  \n",
              "\n",
              "[9288 rows x 10 columns]"
            ],
            "text/html": [
              "\n",
              "  <div id=\"df-be753aa1-c0eb-4617-8078-109366b1fb26\">\n",
              "    <div class=\"colab-df-container\">\n",
              "      <div>\n",
              "<style scoped>\n",
              "    .dataframe tbody tr th:only-of-type {\n",
              "        vertical-align: middle;\n",
              "    }\n",
              "\n",
              "    .dataframe tbody tr th {\n",
              "        vertical-align: top;\n",
              "    }\n",
              "\n",
              "    .dataframe thead th {\n",
              "        text-align: right;\n",
              "    }\n",
              "</style>\n",
              "<table border=\"1\" class=\"dataframe\">\n",
              "  <thead>\n",
              "    <tr style=\"text-align: right;\">\n",
              "      <th></th>\n",
              "      <th>Name</th>\n",
              "      <th>POS</th>\n",
              "      <th>Height (in)</th>\n",
              "      <th>Weight (lbs)</th>\n",
              "      <th>40 Yard (sec)</th>\n",
              "      <th>Bench Press</th>\n",
              "      <th>Vert Leap (in)</th>\n",
              "      <th>Broad Jump (in)</th>\n",
              "      <th>Shuttle (sec)</th>\n",
              "      <th>Part of Game</th>\n",
              "    </tr>\n",
              "  </thead>\n",
              "  <tbody>\n",
              "    <tr>\n",
              "      <th>1</th>\n",
              "      <td>Paulson Adebo</td>\n",
              "      <td>CB</td>\n",
              "      <td>73.00</td>\n",
              "      <td>198</td>\n",
              "      <td>4.45</td>\n",
              "      <td>18.0</td>\n",
              "      <td>36.5</td>\n",
              "      <td>121.0</td>\n",
              "      <td>4.13</td>\n",
              "      <td>NLOS</td>\n",
              "    </tr>\n",
              "    <tr>\n",
              "      <th>2</th>\n",
              "      <td>DAngelo Amos</td>\n",
              "      <td>FS</td>\n",
              "      <td>71.75</td>\n",
              "      <td>191</td>\n",
              "      <td>4.58</td>\n",
              "      <td>11.0</td>\n",
              "      <td>34.5</td>\n",
              "      <td>119.0</td>\n",
              "      <td>4.33</td>\n",
              "      <td>NLOS</td>\n",
              "    </tr>\n",
              "    <tr>\n",
              "      <th>3</th>\n",
              "      <td>Jack Anderson</td>\n",
              "      <td>OG</td>\n",
              "      <td>76.63</td>\n",
              "      <td>314</td>\n",
              "      <td>5.27</td>\n",
              "      <td>27.0</td>\n",
              "      <td>29.5</td>\n",
              "      <td>105.0</td>\n",
              "      <td>4.83</td>\n",
              "      <td>LOS</td>\n",
              "    </tr>\n",
              "    <tr>\n",
              "      <th>4</th>\n",
              "      <td>Otis Anderson</td>\n",
              "      <td>RB</td>\n",
              "      <td>67.50</td>\n",
              "      <td>179</td>\n",
              "      <td>4.65</td>\n",
              "      <td>11.0</td>\n",
              "      <td>36.0</td>\n",
              "      <td>113.0</td>\n",
              "      <td>4.42</td>\n",
              "      <td>NLOS</td>\n",
              "    </tr>\n",
              "    <tr>\n",
              "      <th>5</th>\n",
              "      <td>Zayne Anderson</td>\n",
              "      <td>FS</td>\n",
              "      <td>73.88</td>\n",
              "      <td>206</td>\n",
              "      <td>4.44</td>\n",
              "      <td>11.0</td>\n",
              "      <td>34.0</td>\n",
              "      <td>120.0</td>\n",
              "      <td>4.20</td>\n",
              "      <td>NLOS</td>\n",
              "    </tr>\n",
              "    <tr>\n",
              "      <th>...</th>\n",
              "      <td>...</td>\n",
              "      <td>...</td>\n",
              "      <td>...</td>\n",
              "      <td>...</td>\n",
              "      <td>...</td>\n",
              "      <td>...</td>\n",
              "      <td>...</td>\n",
              "      <td>...</td>\n",
              "      <td>...</td>\n",
              "      <td>...</td>\n",
              "    </tr>\n",
              "    <tr>\n",
              "      <th>13224</th>\n",
              "      <td>Tony Woods</td>\n",
              "      <td>DE</td>\n",
              "      <td>74.80</td>\n",
              "      <td>249</td>\n",
              "      <td>4.85</td>\n",
              "      <td>18.0</td>\n",
              "      <td>29.0</td>\n",
              "      <td>115.0</td>\n",
              "      <td>4.55</td>\n",
              "      <td>LOS</td>\n",
              "    </tr>\n",
              "    <tr>\n",
              "      <th>13225</th>\n",
              "      <td>Rod Woodson</td>\n",
              "      <td>CB</td>\n",
              "      <td>72.00</td>\n",
              "      <td>202</td>\n",
              "      <td>4.33</td>\n",
              "      <td>10.0</td>\n",
              "      <td>36.0</td>\n",
              "      <td>125.0</td>\n",
              "      <td>3.98</td>\n",
              "      <td>NLOS</td>\n",
              "    </tr>\n",
              "    <tr>\n",
              "      <th>13227</th>\n",
              "      <td>Dave Wyman</td>\n",
              "      <td>ILB</td>\n",
              "      <td>74.00</td>\n",
              "      <td>235</td>\n",
              "      <td>4.79</td>\n",
              "      <td>23.0</td>\n",
              "      <td>29.0</td>\n",
              "      <td>118.0</td>\n",
              "      <td>4.30</td>\n",
              "      <td>LOS</td>\n",
              "    </tr>\n",
              "    <tr>\n",
              "      <th>13228</th>\n",
              "      <td>Theo Young</td>\n",
              "      <td>TE</td>\n",
              "      <td>74.00</td>\n",
              "      <td>231</td>\n",
              "      <td>4.89</td>\n",
              "      <td>9.0</td>\n",
              "      <td>30.0</td>\n",
              "      <td>107.0</td>\n",
              "      <td>4.20</td>\n",
              "      <td>NLOS</td>\n",
              "    </tr>\n",
              "    <tr>\n",
              "      <th>13229</th>\n",
              "      <td>Jeff Zimmerman</td>\n",
              "      <td>OG</td>\n",
              "      <td>75.40</td>\n",
              "      <td>341</td>\n",
              "      <td>5.36</td>\n",
              "      <td>22.0</td>\n",
              "      <td>22.5</td>\n",
              "      <td>NaN</td>\n",
              "      <td>4.83</td>\n",
              "      <td>LOS</td>\n",
              "    </tr>\n",
              "  </tbody>\n",
              "</table>\n",
              "<p>9288 rows × 10 columns</p>\n",
              "</div>\n",
              "      <button class=\"colab-df-convert\" onclick=\"convertToInteractive('df-be753aa1-c0eb-4617-8078-109366b1fb26')\"\n",
              "              title=\"Convert this dataframe to an interactive table.\"\n",
              "              style=\"display:none;\">\n",
              "        \n",
              "  <svg xmlns=\"http://www.w3.org/2000/svg\" height=\"24px\"viewBox=\"0 0 24 24\"\n",
              "       width=\"24px\">\n",
              "    <path d=\"M0 0h24v24H0V0z\" fill=\"none\"/>\n",
              "    <path d=\"M18.56 5.44l.94 2.06.94-2.06 2.06-.94-2.06-.94-.94-2.06-.94 2.06-2.06.94zm-11 1L8.5 8.5l.94-2.06 2.06-.94-2.06-.94L8.5 2.5l-.94 2.06-2.06.94zm10 10l.94 2.06.94-2.06 2.06-.94-2.06-.94-.94-2.06-.94 2.06-2.06.94z\"/><path d=\"M17.41 7.96l-1.37-1.37c-.4-.4-.92-.59-1.43-.59-.52 0-1.04.2-1.43.59L10.3 9.45l-7.72 7.72c-.78.78-.78 2.05 0 2.83L4 21.41c.39.39.9.59 1.41.59.51 0 1.02-.2 1.41-.59l7.78-7.78 2.81-2.81c.8-.78.8-2.07 0-2.86zM5.41 20L4 18.59l7.72-7.72 1.47 1.35L5.41 20z\"/>\n",
              "  </svg>\n",
              "      </button>\n",
              "      \n",
              "  <style>\n",
              "    .colab-df-container {\n",
              "      display:flex;\n",
              "      flex-wrap:wrap;\n",
              "      gap: 12px;\n",
              "    }\n",
              "\n",
              "    .colab-df-convert {\n",
              "      background-color: #E8F0FE;\n",
              "      border: none;\n",
              "      border-radius: 50%;\n",
              "      cursor: pointer;\n",
              "      display: none;\n",
              "      fill: #1967D2;\n",
              "      height: 32px;\n",
              "      padding: 0 0 0 0;\n",
              "      width: 32px;\n",
              "    }\n",
              "\n",
              "    .colab-df-convert:hover {\n",
              "      background-color: #E2EBFA;\n",
              "      box-shadow: 0px 1px 2px rgba(60, 64, 67, 0.3), 0px 1px 3px 1px rgba(60, 64, 67, 0.15);\n",
              "      fill: #174EA6;\n",
              "    }\n",
              "\n",
              "    [theme=dark] .colab-df-convert {\n",
              "      background-color: #3B4455;\n",
              "      fill: #D2E3FC;\n",
              "    }\n",
              "\n",
              "    [theme=dark] .colab-df-convert:hover {\n",
              "      background-color: #434B5C;\n",
              "      box-shadow: 0px 1px 3px 1px rgba(0, 0, 0, 0.15);\n",
              "      filter: drop-shadow(0px 1px 2px rgba(0, 0, 0, 0.3));\n",
              "      fill: #FFFFFF;\n",
              "    }\n",
              "  </style>\n",
              "\n",
              "      <script>\n",
              "        const buttonEl =\n",
              "          document.querySelector('#df-be753aa1-c0eb-4617-8078-109366b1fb26 button.colab-df-convert');\n",
              "        buttonEl.style.display =\n",
              "          google.colab.kernel.accessAllowed ? 'block' : 'none';\n",
              "\n",
              "        async function convertToInteractive(key) {\n",
              "          const element = document.querySelector('#df-be753aa1-c0eb-4617-8078-109366b1fb26');\n",
              "          const dataTable =\n",
              "            await google.colab.kernel.invokeFunction('convertToInteractive',\n",
              "                                                     [key], {});\n",
              "          if (!dataTable) return;\n",
              "\n",
              "          const docLinkHtml = 'Like what you see? Visit the ' +\n",
              "            '<a target=\"_blank\" href=https://colab.research.google.com/notebooks/data_table.ipynb>data table notebook</a>'\n",
              "            + ' to learn more about interactive tables.';\n",
              "          element.innerHTML = '';\n",
              "          dataTable['output_type'] = 'display_data';\n",
              "          await google.colab.output.renderOutput(dataTable, element);\n",
              "          const docLink = document.createElement('div');\n",
              "          docLink.innerHTML = docLinkHtml;\n",
              "          element.appendChild(docLink);\n",
              "        }\n",
              "      </script>\n",
              "    </div>\n",
              "  </div>\n",
              "  "
            ]
          },
          "metadata": {},
          "execution_count": 52
        }
      ]
    },
    {
      "cell_type": "code",
      "source": [
        "print(df.isnull().sum())"
      ],
      "metadata": {
        "id": "9_7aYu7jsH_E",
        "colab": {
          "base_uri": "https://localhost:8080/"
        },
        "outputId": "e8bfccac-49df-4181-a6a4-c836cc3b89a4"
      },
      "execution_count": null,
      "outputs": [
        {
          "output_type": "stream",
          "name": "stdout",
          "text": [
            "Name                 0\n",
            "POS                  0\n",
            "Height (in)          0\n",
            "Weight (lbs)         0\n",
            "40 Yard (sec)        0\n",
            "Bench Press          0\n",
            "Vert Leap (in)     398\n",
            "Broad Jump (in)    501\n",
            "Shuttle (sec)      927\n",
            "Part of Game         0\n",
            "dtype: int64\n"
          ]
        }
      ]
    },
    {
      "cell_type": "code",
      "source": [
        "#Vertical Leap, Broad jump, and Shuttle are all valuable metrics and we need to preserve as much of that data as possible.\n",
        "#We will apply the median to the remaining nulls. \n",
        "\n",
        "#Reference: https://www.statology.org/pandas-fillna-with-median/#:~:text=You%20can%20use%20the%20fillna,values%20in%20a%20pandas%20DataFrame.\n",
        "\n",
        "df['Vert Leap (in)'] = df['Vert Leap (in)'].fillna(df['Vert Leap (in)'].median())\n",
        "df['Broad Jump (in)'] = df['Broad Jump (in)'].fillna(df['Broad Jump (in)'].median())\n",
        "df['Shuttle (sec)'] = df['Shuttle (sec)'].fillna(df['Shuttle (sec)'].median())\n",
        "\n",
        "\n",
        "#The nulls are now taken care of. \n",
        "print(df.isnull().sum())"
      ],
      "metadata": {
        "id": "mmtV-x55sUs9",
        "colab": {
          "base_uri": "https://localhost:8080/"
        },
        "outputId": "392bd8a6-a53c-4109-d213-423ed8123057"
      },
      "execution_count": null,
      "outputs": [
        {
          "output_type": "stream",
          "name": "stdout",
          "text": [
            "Name               0\n",
            "POS                0\n",
            "Height (in)        0\n",
            "Weight (lbs)       0\n",
            "40 Yard (sec)      0\n",
            "Bench Press        0\n",
            "Vert Leap (in)     0\n",
            "Broad Jump (in)    0\n",
            "Shuttle (sec)      0\n",
            "Part of Game       0\n",
            "dtype: int64\n"
          ]
        }
      ]
    },
    {
      "cell_type": "code",
      "source": [
        "#Check for any duplicate rows \n",
        "duplicate = df[df.duplicated(keep='last')]\n",
        "duplicate.shape"
      ],
      "metadata": {
        "id": "Rt0eiYwaXs6O",
        "colab": {
          "base_uri": "https://localhost:8080/"
        },
        "outputId": "4d6218d1-79cb-480e-80d5-e8197698feab"
      },
      "execution_count": null,
      "outputs": [
        {
          "output_type": "execute_result",
          "data": {
            "text/plain": [
              "(0, 10)"
            ]
          },
          "metadata": {},
          "execution_count": 55
        }
      ]
    },
    {
      "cell_type": "markdown",
      "source": [
        "There are no duplicate rows."
      ],
      "metadata": {
        "id": "lOuIoqpWYKZ-"
      }
    },
    {
      "cell_type": "code",
      "source": [
        "#check for any invalid variables\n",
        "for k in df:\n",
        "  print(df[k].unique(),'\\n')"
      ],
      "metadata": {
        "id": "lORTIc-w3HRf",
        "colab": {
          "base_uri": "https://localhost:8080/"
        },
        "outputId": "a42906af-453a-4fc0-e2e0-06a29f699ac0"
      },
      "execution_count": null,
      "outputs": [
        {
          "output_type": "stream",
          "name": "stdout",
          "text": [
            "['Paulson Adebo' 'DAngelo Amos' 'Jack Anderson' ... 'Dave Wyman'\n",
            " 'Theo Young' 'Jeff Zimmerman'] \n",
            "\n",
            "['CB' 'FS' 'OG' 'RB' 'TE' 'ILB' 'OT' 'DE' 'WR' 'FB' 'OLB' 'C' 'LS' 'SS'\n",
            " 'DT' 'S' 'LB' 'P' 'QB' 'EDG' 'OL' 'DB' 'DL' 'NT' 'K'] \n",
            "\n",
            "[73.   71.75 76.63 67.5  73.88 78.5  70.25 78.13 75.13 72.5  74.88 79.38\n",
            " 75.75 72.38 75.25 77.38 70.   75.5  72.75 76.88 74.75 71.13 69.5  72.25\n",
            " 71.38 70.75 76.5  70.38 80.25 69.75 73.75 77.5  69.63 67.88 76.25 78.25\n",
            " 76.13 74.63 77.88 74.13 69.13 75.38 72.   67.63 78.63 75.   73.5  80.\n",
            " 71.5  73.63 70.13 71.   77.25 68.63 76.75 78.38 68.38 72.13 72.88 71.63\n",
            " 76.   68.25 75.88 69.   77.   67.75 68.88 78.75 70.5  72.63 78.   70.63\n",
            " 73.38 74.   74.5  76.38 66.88 70.88 73.13 77.63 74.25 71.25 74.38 77.75\n",
            " 75.63 71.88 68.75 69.38 68.5  67.25 77.13 68.   79.63 68.13 79.25 69.25\n",
            " 80.38 66.   69.88 73.25 80.13 79.   79.5  66.63 79.88 67.   61.88 80.63\n",
            " 78.88 66.38 67.13 81.63 65.88 79.13 80.5  67.38 65.75 66.75 80.88 66.13\n",
            " 65.25 79.75 76.3  73.8  66.8  66.25 72.3  70.1  74.4  77.4  70.4  71.6\n",
            " 78.3  69.8  76.9  73.4  76.1  78.1  74.6  76.8  75.4  73.6  69.3  71.3\n",
            " 75.6  74.9  76.4  69.6  71.4  79.3  77.9  78.9  70.6  75.3  72.8  73.1\n",
            " 70.8  74.8  71.9  75.9  75.1  79.1  74.3  74.1  72.1  78.6  76.6  68.8\n",
            " 71.8  77.8  77.1  77.3  73.9  70.9  77.6  68.4  72.9  72.4  73.3  78.8\n",
            " 69.4  69.9  72.6  69.1  75.8  79.8  71.1  68.6  78.4  68.3  67.8  79.9\n",
            " 68.1  67.3  70.3  67.6  66.6  68.9  67.4  79.4  67.9  67.1  82.4  79.6\n",
            " 80.3  65.9  81.   66.3  64.9  80.4 ] \n",
            "\n",
            "[198 191 314 179 206 245 232 307 246 210 308 298 238 274 250 220 324 233\n",
            " 213 237 180 229 322 197 218 235 304 270 208 311 185 221 183 303 186 226\n",
            " 184 201 239 343 240 215 253 195 209 182 316 299 174 275 262 228 320 189\n",
            " 291 211 251 331 306 222 236 309 204 188 241 207 269 292 192 200 205 310\n",
            " 219 214 319 196 276 199 302 321 254 317 260 301 230 313 203 247 243 281\n",
            " 286 217 193 202 330 178 318 190 234 187 231 290 261 223 266 212 267 312\n",
            " 295 216 305 252 181 278 194 242 325 259 170 300 257 364 326 248 280 263\n",
            " 224 327 289 293 176 297 227 264 265 315 255 350 244 258 284 296 256 169\n",
            " 294 283 249 225 323 271 329 277 285 335 338 288 342 336 366 287 173 158\n",
            " 334 279 177 175 345 380 333 385 328 273 167 347 163 353 351 268 332 272\n",
            " 340 282 171 165 348 355 162 354 339 344 337 352 369 346 172 358 361 349\n",
            " 341 166 356 168 375 370 374 386 367 372 387 371 359 368 164 161 157 152\n",
            " 156 160] \n",
            "\n",
            "[4.45 4.58 5.27 4.65 4.44 4.89 4.93 5.55 5.19 4.81 5.14 5.2  5.23 4.62\n",
            " 4.84 4.78 5.18 4.54 4.6  5.   5.15 4.7  4.55 4.76 5.07 5.01 4.64 4.94\n",
            " 4.42 4.56 5.49 4.5  4.48 4.36 5.09 5.05 4.73 5.17 4.71 4.59 4.87 4.77\n",
            " 4.41 5.26 5.45 4.61 4.46 4.96 4.83 5.12 4.38 5.1  4.88 4.69 4.52 4.82\n",
            " 5.62 4.91 4.43 4.79 5.13 5.38 4.49 4.47 4.57 5.33 5.24 5.46 4.75 5.5\n",
            " 5.22 4.4  4.51 5.11 4.53 5.4  4.72 4.66 4.68 4.8  5.32 5.3  5.08 4.35\n",
            " 5.21 5.31 5.63 5.16 4.63 5.04 4.39 5.67 4.98 4.31 5.02 5.47 4.67 4.74\n",
            " 5.29 4.85 5.52 5.35 5.06 5.37 4.97 4.37 5.03 5.57 4.9  5.64 5.34 4.95\n",
            " 4.92 4.99 5.48 5.43 4.3  5.51 5.28 5.25 5.44 4.33 5.41 5.82 4.86 5.53\n",
            " 5.56 5.68 5.39 4.34 4.29 5.85 5.75 5.58 4.32 5.36 5.6  5.59 4.28 5.54\n",
            " 5.42 5.61 5.73 5.74 5.65 4.26 4.27 6.   4.25 5.71 4.22 4.21 5.76 5.69\n",
            " 5.89 5.8  6.03 5.94 5.66 5.84 5.72 5.7  5.77 5.79 6.12 6.01] \n",
            "\n",
            "[18. 11. 27. 12. 24. 15. 28. 19. 21. 17. 20. 29. 25. 23. 22. 16.  6. 74.\n",
            " 13. 14. 30. 26. 36.  4. 31. 33. 10.  9. 32.  3. 35.  2.  7. 40.  8. 34.\n",
            " 39. 38. 37. 41. 42.  5. 44. 43. 49. 45. 47. 51.  1.] \n",
            "\n",
            "[36.5 34.5 29.5 36.  34.  29.  31.5 30.  26.5 39.5 33.5 27.5 37.  31.\n",
            " 24.5 25.5 40.  32.  32.5 38.  26.  38.5 35.5 33.  28.  37.5 30.5 39.\n",
            " 35.  27.  24.  42.5 40.5 28.5 41.5 46.5 25.  41.  43.  23.5 42.  21.5\n",
            " 43.5 22.5 23.  44.  19.5 21.  20.  20.5 19.  45.  44.5 22.  17.5 26.1\n",
            " 18.5 46.  45.5 34.2 33.3] \n",
            "\n",
            "[121. 119. 105. 113. 120. 109. 114. 100. 110. 129. 106. 103. 122. 101.\n",
            "  94. 132. 115. 126.  98. 118. 117. 123. 130. 116. 124. 125. 112. 102.\n",
            " 108. 133. 111. 127. 136. 128.  99. 107. 104.  97. 135. 134.  85. 131.\n",
            " 138.   8.   9.  10.  93.  96. 140.  92.  90. 141. 139.  89.  88.  86.\n",
            "  82.  95.  91.  77.  87. 147.  84. 137.  78.  83.   7.] \n",
            "\n",
            "[4.13 4.33 4.83 4.42 4.2  4.59 4.32 5.   4.91 4.8  4.41 4.5  4.7  4.56\n",
            " 4.35 4.58 4.93 4.79 4.26 4.17 4.3  4.4  4.38 4.23 4.48 4.72 4.39 4.27\n",
            " 4.22 4.43 4.51 4.97 4.14 4.44 3.98 4.88 4.69 4.31 4.29 4.45 4.02 4.64\n",
            " 4.84 4.12 4.1  4.55 4.28 4.57 4.46 4.53 4.47 5.18 4.9  4.63 4.68 4.19\n",
            " 4.75 4.89 5.03 4.54 4.62 4.52 4.34 4.95 4.85 4.16 4.49 4.92 4.71 4.15\n",
            " 4.37 4.65 4.03 4.81 4.73 4.   4.25 4.18 4.21 4.24 4.08 4.09 5.37 4.36\n",
            " 4.82 4.01 4.11 5.08 4.66 4.86 5.01 4.6  4.87 5.02 5.11 3.97 4.98 4.76\n",
            " 4.78 5.07 4.74 5.1  4.04 5.46 4.67 4.07 5.06 4.99 4.05 4.77 5.12 4.94\n",
            " 5.04 5.28 5.09 4.06 4.96 5.16 5.41 4.61 3.99 5.13 5.22 5.14 5.05 5.17\n",
            " 5.38 3.94 5.48 5.21 3.89 3.93 5.15 3.85 3.95 3.9  3.8  5.27 5.19 3.82\n",
            " 3.96 5.2  3.81 5.24 3.84 3.88 5.56 3.92 5.25 5.42 5.33 3.91 3.75 3.83\n",
            " 3.86 3.87 5.26 5.68 5.4  5.23 5.32 5.45 5.35 5.34 5.31] \n",
            "\n",
            "['NLOS' 'LOS'] \n",
            "\n"
          ]
        }
      ]
    },
    {
      "cell_type": "code",
      "source": [
        "#Change the datatype of some columns\n",
        "df[\"Bench Press\"] = df[\"Bench Press\"].astype(\"int64\")\n",
        "df[\"Broad Jump (in)\"] = df[\"Broad Jump (in)\"].astype(\"int64\")"
      ],
      "metadata": {
        "id": "Temnj9Y_YSHP"
      },
      "execution_count": null,
      "outputs": []
    },
    {
      "cell_type": "code",
      "source": [
        "#Scale the numerical datas, in order to use machine learning algorithmns. K\n",
        "scaler = StandardScaler()\n",
        "df[['Height (in)', 'Weight (lbs)','40 Yard (sec)','Bench Press','Vert Leap (in)','Broad Jump (in)','Shuttle (sec)']] = StandardScaler().fit_transform(df[['Height (in)', 'Weight (lbs)','40 Yard (sec)','Bench Press','Vert Leap (in)','Broad Jump (in)','Shuttle (sec)']])\n",
        "df.head()\n"
      ],
      "metadata": {
        "id": "R5tZyZil0MHM",
        "colab": {
          "base_uri": "https://localhost:8080/",
          "height": 354
        },
        "outputId": "76302734-be93-4b13-edc5-04865c37b5e6"
      },
      "execution_count": null,
      "outputs": [
        {
          "output_type": "execute_result",
          "data": {
            "text/plain": [
              "             Name POS  Height (in)  Weight (lbs)  40 Yard (sec)  Bench Press  \\\n",
              "1   Paulson Adebo  CB    -0.304791     -1.071580      -1.201613    -0.279196   \n",
              "2    DAngelo Amos  FS    -0.771174     -1.226157      -0.792478    -1.350628   \n",
              "3   Jack Anderson  OG     1.049586      1.489976       1.379087     1.098360   \n",
              "4   Otis Anderson  RB    -2.356878     -1.491145      -0.572174    -1.350628   \n",
              "5  Zayne Anderson  FS     0.023543     -0.894921      -1.233085    -1.350628   \n",
              "\n",
              "   Vert Leap (in)  Broad Jump (in)  Shuttle (sec) Part of Game  \n",
              "1        1.024714         0.829685      -1.201644         NLOS  \n",
              "2        0.548184         0.622734      -0.406778         NLOS  \n",
              "3       -0.643141        -0.825919       1.580386          LOS  \n",
              "4        0.905582         0.001883      -0.049089         NLOS  \n",
              "5        0.429052         0.726209      -0.923441         NLOS  "
            ],
            "text/html": [
              "\n",
              "  <div id=\"df-3c500ce6-3371-4361-9ff2-cd52be4adddb\">\n",
              "    <div class=\"colab-df-container\">\n",
              "      <div>\n",
              "<style scoped>\n",
              "    .dataframe tbody tr th:only-of-type {\n",
              "        vertical-align: middle;\n",
              "    }\n",
              "\n",
              "    .dataframe tbody tr th {\n",
              "        vertical-align: top;\n",
              "    }\n",
              "\n",
              "    .dataframe thead th {\n",
              "        text-align: right;\n",
              "    }\n",
              "</style>\n",
              "<table border=\"1\" class=\"dataframe\">\n",
              "  <thead>\n",
              "    <tr style=\"text-align: right;\">\n",
              "      <th></th>\n",
              "      <th>Name</th>\n",
              "      <th>POS</th>\n",
              "      <th>Height (in)</th>\n",
              "      <th>Weight (lbs)</th>\n",
              "      <th>40 Yard (sec)</th>\n",
              "      <th>Bench Press</th>\n",
              "      <th>Vert Leap (in)</th>\n",
              "      <th>Broad Jump (in)</th>\n",
              "      <th>Shuttle (sec)</th>\n",
              "      <th>Part of Game</th>\n",
              "    </tr>\n",
              "  </thead>\n",
              "  <tbody>\n",
              "    <tr>\n",
              "      <th>1</th>\n",
              "      <td>Paulson Adebo</td>\n",
              "      <td>CB</td>\n",
              "      <td>-0.304791</td>\n",
              "      <td>-1.071580</td>\n",
              "      <td>-1.201613</td>\n",
              "      <td>-0.279196</td>\n",
              "      <td>1.024714</td>\n",
              "      <td>0.829685</td>\n",
              "      <td>-1.201644</td>\n",
              "      <td>NLOS</td>\n",
              "    </tr>\n",
              "    <tr>\n",
              "      <th>2</th>\n",
              "      <td>DAngelo Amos</td>\n",
              "      <td>FS</td>\n",
              "      <td>-0.771174</td>\n",
              "      <td>-1.226157</td>\n",
              "      <td>-0.792478</td>\n",
              "      <td>-1.350628</td>\n",
              "      <td>0.548184</td>\n",
              "      <td>0.622734</td>\n",
              "      <td>-0.406778</td>\n",
              "      <td>NLOS</td>\n",
              "    </tr>\n",
              "    <tr>\n",
              "      <th>3</th>\n",
              "      <td>Jack Anderson</td>\n",
              "      <td>OG</td>\n",
              "      <td>1.049586</td>\n",
              "      <td>1.489976</td>\n",
              "      <td>1.379087</td>\n",
              "      <td>1.098360</td>\n",
              "      <td>-0.643141</td>\n",
              "      <td>-0.825919</td>\n",
              "      <td>1.580386</td>\n",
              "      <td>LOS</td>\n",
              "    </tr>\n",
              "    <tr>\n",
              "      <th>4</th>\n",
              "      <td>Otis Anderson</td>\n",
              "      <td>RB</td>\n",
              "      <td>-2.356878</td>\n",
              "      <td>-1.491145</td>\n",
              "      <td>-0.572174</td>\n",
              "      <td>-1.350628</td>\n",
              "      <td>0.905582</td>\n",
              "      <td>0.001883</td>\n",
              "      <td>-0.049089</td>\n",
              "      <td>NLOS</td>\n",
              "    </tr>\n",
              "    <tr>\n",
              "      <th>5</th>\n",
              "      <td>Zayne Anderson</td>\n",
              "      <td>FS</td>\n",
              "      <td>0.023543</td>\n",
              "      <td>-0.894921</td>\n",
              "      <td>-1.233085</td>\n",
              "      <td>-1.350628</td>\n",
              "      <td>0.429052</td>\n",
              "      <td>0.726209</td>\n",
              "      <td>-0.923441</td>\n",
              "      <td>NLOS</td>\n",
              "    </tr>\n",
              "  </tbody>\n",
              "</table>\n",
              "</div>\n",
              "      <button class=\"colab-df-convert\" onclick=\"convertToInteractive('df-3c500ce6-3371-4361-9ff2-cd52be4adddb')\"\n",
              "              title=\"Convert this dataframe to an interactive table.\"\n",
              "              style=\"display:none;\">\n",
              "        \n",
              "  <svg xmlns=\"http://www.w3.org/2000/svg\" height=\"24px\"viewBox=\"0 0 24 24\"\n",
              "       width=\"24px\">\n",
              "    <path d=\"M0 0h24v24H0V0z\" fill=\"none\"/>\n",
              "    <path d=\"M18.56 5.44l.94 2.06.94-2.06 2.06-.94-2.06-.94-.94-2.06-.94 2.06-2.06.94zm-11 1L8.5 8.5l.94-2.06 2.06-.94-2.06-.94L8.5 2.5l-.94 2.06-2.06.94zm10 10l.94 2.06.94-2.06 2.06-.94-2.06-.94-.94-2.06-.94 2.06-2.06.94z\"/><path d=\"M17.41 7.96l-1.37-1.37c-.4-.4-.92-.59-1.43-.59-.52 0-1.04.2-1.43.59L10.3 9.45l-7.72 7.72c-.78.78-.78 2.05 0 2.83L4 21.41c.39.39.9.59 1.41.59.51 0 1.02-.2 1.41-.59l7.78-7.78 2.81-2.81c.8-.78.8-2.07 0-2.86zM5.41 20L4 18.59l7.72-7.72 1.47 1.35L5.41 20z\"/>\n",
              "  </svg>\n",
              "      </button>\n",
              "      \n",
              "  <style>\n",
              "    .colab-df-container {\n",
              "      display:flex;\n",
              "      flex-wrap:wrap;\n",
              "      gap: 12px;\n",
              "    }\n",
              "\n",
              "    .colab-df-convert {\n",
              "      background-color: #E8F0FE;\n",
              "      border: none;\n",
              "      border-radius: 50%;\n",
              "      cursor: pointer;\n",
              "      display: none;\n",
              "      fill: #1967D2;\n",
              "      height: 32px;\n",
              "      padding: 0 0 0 0;\n",
              "      width: 32px;\n",
              "    }\n",
              "\n",
              "    .colab-df-convert:hover {\n",
              "      background-color: #E2EBFA;\n",
              "      box-shadow: 0px 1px 2px rgba(60, 64, 67, 0.3), 0px 1px 3px 1px rgba(60, 64, 67, 0.15);\n",
              "      fill: #174EA6;\n",
              "    }\n",
              "\n",
              "    [theme=dark] .colab-df-convert {\n",
              "      background-color: #3B4455;\n",
              "      fill: #D2E3FC;\n",
              "    }\n",
              "\n",
              "    [theme=dark] .colab-df-convert:hover {\n",
              "      background-color: #434B5C;\n",
              "      box-shadow: 0px 1px 3px 1px rgba(0, 0, 0, 0.15);\n",
              "      filter: drop-shadow(0px 1px 2px rgba(0, 0, 0, 0.3));\n",
              "      fill: #FFFFFF;\n",
              "    }\n",
              "  </style>\n",
              "\n",
              "      <script>\n",
              "        const buttonEl =\n",
              "          document.querySelector('#df-3c500ce6-3371-4361-9ff2-cd52be4adddb button.colab-df-convert');\n",
              "        buttonEl.style.display =\n",
              "          google.colab.kernel.accessAllowed ? 'block' : 'none';\n",
              "\n",
              "        async function convertToInteractive(key) {\n",
              "          const element = document.querySelector('#df-3c500ce6-3371-4361-9ff2-cd52be4adddb');\n",
              "          const dataTable =\n",
              "            await google.colab.kernel.invokeFunction('convertToInteractive',\n",
              "                                                     [key], {});\n",
              "          if (!dataTable) return;\n",
              "\n",
              "          const docLinkHtml = 'Like what you see? Visit the ' +\n",
              "            '<a target=\"_blank\" href=https://colab.research.google.com/notebooks/data_table.ipynb>data table notebook</a>'\n",
              "            + ' to learn more about interactive tables.';\n",
              "          element.innerHTML = '';\n",
              "          dataTable['output_type'] = 'display_data';\n",
              "          await google.colab.output.renderOutput(dataTable, element);\n",
              "          const docLink = document.createElement('div');\n",
              "          docLink.innerHTML = docLinkHtml;\n",
              "          element.appendChild(docLink);\n",
              "        }\n",
              "      </script>\n",
              "    </div>\n",
              "  </div>\n",
              "  "
            ]
          },
          "metadata": {},
          "execution_count": 58
        }
      ]
    },
    {
      "cell_type": "markdown",
      "source": [
        "#Outliers"
      ],
      "metadata": {
        "id": "W0T2iBur0Ylj"
      }
    },
    {
      "cell_type": "markdown",
      "source": [
        "##Checking graphs for outliers"
      ],
      "metadata": {
        "id": "CfCthoau0bQJ"
      }
    },
    {
      "cell_type": "code",
      "source": [
        "#use the scaled data in order to have all boxplots in the same range so it's easier to read.\n",
        "df.boxplot(figsize = (11,8),flierprops={'marker': 'o', 'markersize': 10, 'markerfacecolor': 'fuchsia'})"
      ],
      "metadata": {
        "id": "QpDMZpUrdyrY",
        "colab": {
          "base_uri": "https://localhost:8080/",
          "height": 504
        },
        "outputId": "fb697dac-32d8-425e-ac68-7606be012766"
      },
      "execution_count": null,
      "outputs": [
        {
          "output_type": "execute_result",
          "data": {
            "text/plain": [
              "<matplotlib.axes._subplots.AxesSubplot at 0x7f11094d9710>"
            ]
          },
          "metadata": {},
          "execution_count": 81
        },
        {
          "output_type": "display_data",
          "data": {
            "text/plain": [
              "<Figure size 792x576 with 1 Axes>"
            ],
            "image/png": "[encoded data removed]"
          },
          "metadata": {
            "needs_background": "light"
          }
        }
      ]
    },
    {
      "cell_type": "markdown",
      "source": [
        "Analyzing the boxplot graph we see that all features besides the weight attribute has outliers."
      ],
      "metadata": {
        "id": "LmyMfOr2su10"
      }
    },
    {
      "cell_type": "code",
      "source": [
        "#Check for outliers in a histograph\n",
        "df.hist(figsize = (15,10))\n",
        "plt.show()"
      ],
      "metadata": {
        "id": "c-p_8ozHudII",
        "colab": {
          "base_uri": "https://localhost:8080/",
          "height": 612
        },
        "outputId": "fcef2ff5-644b-47e7-eace-f5250cb45794"
      },
      "execution_count": null,
      "outputs": [
        {
          "output_type": "display_data",
          "data": {
            "text/plain": [
              "<Figure size 1080x720 with 9 Axes>"
            ],
            "image/png": "[encoded data removed]"
          },
          "metadata": {
            "needs_background": "light"
          }
        }
      ]
    },
    {
      "cell_type": "markdown",
      "source": [
        "##Finding outliers using a formula"
      ],
      "metadata": {
        "id": "tQBxdlmovj07"
      }
    },
    {
      "cell_type": "code",
      "source": [
        "#Make a tempData with only numerical data in order to loop through the calculation, \n",
        "tempData = df.copy()\n",
        "tempData.drop('Name', axis=1, inplace=True)\n",
        "tempData.drop('POS', axis=1, inplace=True)\n",
        "tempData.drop(\"Part of Game\", axis = 1, inplace = True)\n",
        "\n",
        "for i in tempData.columns:\n",
        "    outliers= tempData[np.abs(tempData[i] - tempData[i].mean() ) > (2.5 * tempData[i].std())]\n",
        "    print(i, outliers.shape)\n"
      ],
      "metadata": {
        "id": "_rMNhU6gvnTB",
        "colab": {
          "base_uri": "https://localhost:8080/"
        },
        "outputId": "2b56ae48-8706-4ed0-ab7d-1da27511f3da"
      },
      "execution_count": null,
      "outputs": [
        {
          "output_type": "stream",
          "name": "stdout",
          "text": [
            "Height (in) (49, 7)\n",
            "Weight (lbs) (20, 7)\n",
            "40 Yard (sec) (76, 7)\n",
            "Bench Press (107, 7)\n",
            "Vert Leap (in) (87, 7)\n",
            "Broad Jump (in) (60, 7)\n",
            "Shuttle (sec) (138, 7)\n"
          ]
        }
      ]
    },
    {
      "cell_type": "markdown",
      "source": [
        "#Correlation between attributes"
      ],
      "metadata": {
        "id": "4cot5PIO3LUW"
      }
    },
    {
      "cell_type": "markdown",
      "source": [
        "##Correlation between numerical features"
      ],
      "metadata": {
        "id": "A-ivwKLwXGck"
      }
    },
    {
      "cell_type": "markdown",
      "source": [
        "Guide on reading a correlation matrix, is reported in the site, Statology.org. \n",
        "\n",
        "Strength of Correlation: \n",
        "* r < 0.25 \tNo Correlation\n",
        "* 0.25 < r < 0.5 \tWeak Correlation\n",
        "* 0.5 < r < 0.75 \tModerate Correlation\n",
        "* r > 0.75 \tStrong Correlation"
      ],
      "metadata": {
        "id": "NSxWE-UwGtKF"
      }
    },
    {
      "cell_type": "code",
      "source": [
        "# view correlation matrix for the variables in the dataset\n",
        "corrMatrix = df.corr()\n",
        "# show visual representation of the correlation matrix\n",
        "plt.rcParams.update({'font.size': 12,'figure.figsize':(8,8)})\n",
        "f3 = sns.heatmap(corrMatrix, annot=True)\n",
        "plt.show() # show plot"
      ],
      "metadata": {
        "id": "tQ4zmofx3SaS",
        "colab": {
          "base_uri": "https://localhost:8080/",
          "height": 572
        },
        "outputId": "7beb479e-09d5-46fb-9ef4-7b1301c0bc91"
      },
      "execution_count": null,
      "outputs": [
        {
          "output_type": "display_data",
          "data": {
            "text/plain": [
              "<Figure size 576x576 with 2 Axes>"
            ],
            "image/png": "[encoded data removed]"
          },
          "metadata": {
            "needs_background": "light"
          }
        }
      ]
    },
    {
      "cell_type": "markdown",
      "source": [
        "From the heatmap, we can see that two pairs of attributes have a \"strong\" correlation: 40 Yard Dash and Weight, and Broad Jump and Vertical Leap. Five others show \"moderate\" correlation: Weight and Height, 40 Yard Dash and Height, Bench Press and Weight, Weight and Shuttle, 40 Yard Dash and Shuttle.\n",
        "\n",
        "Given that we are primarily interested in the 40 Yard Dash metric, the relation between 40 Yard Dash and Weight, Height, and Shuttle is notable. These r values indicate that Weight, and to a lesser extent Height and Shuttle, could be used as a statistically relevent way to predict performance on the 40 Yard Dash."
      ],
      "metadata": {
        "id": "XobUcsTc3dZq"
      }
    },
    {
      "cell_type": "markdown",
      "source": [
        "See scatter plot for all numeric feature with dependent feature. "
      ],
      "metadata": {
        "id": "ofWzCQnaWxBO"
      }
    },
    {
      "cell_type": "code",
      "source": [
        "plt.figure(figsize=(10,10))\n",
        "\n",
        "plt.subplot(321)\n",
        "sns.regplot(x = '40 Yard (sec)',y = 'Height (in)', data = df)\n",
        "\n",
        "plt.subplot(322)\n",
        "sns.regplot(x = '40 Yard (sec)',y = 'Weight (lbs)', data = df)\n",
        "\n",
        "plt.subplot(323)\n",
        "sns.regplot(x = '40 Yard (sec)',y = 'Broad Jump (in)', data = df)\n",
        "\n",
        "plt.subplot(324)\n",
        "sns.regplot(x = '40 Yard (sec)',y = 'Bench Press', data = df)\n",
        "\n",
        "plt.subplot(325)\n",
        "sns.regplot(x = '40 Yard (sec)',y = 'Vert Leap (in)', data = df)\n",
        "\n",
        "plt.subplot(326)\n",
        "sns.regplot(x = '40 Yard (sec)',y = 'Shuttle (sec)', data = df)\n",
        "\n",
        "\n",
        "plt.show()"
      ],
      "metadata": {
        "id": "8uK1mBuUTUFR",
        "colab": {
          "base_uri": "https://localhost:8080/",
          "height": 612
        },
        "outputId": "c6ff59ad-cbdb-43f7-c23f-b802e74c4d4e"
      },
      "execution_count": null,
      "outputs": [
        {
          "output_type": "display_data",
          "data": {
            "text/plain": [
              "<Figure size 720x720 with 6 Axes>"
            ],
            "image/png": "[encoded data removed]"
          },
          "metadata": {
            "needs_background": "light"
          }
        }
      ]
    },
    {
      "cell_type": "markdown",
      "source": [
        "Discussion of Results: Based on the scatterplots above, you can see that 3 of the indendent features: weight, shuttle and 3Cone have a positive relationship with the dependent feature 40 Yard. We also note that Vert leap and 40 Yard have a negative relationship.  "
      ],
      "metadata": {
        "id": "BuutPiVtW6Db"
      }
    },
    {
      "cell_type": "markdown",
      "source": [
        "#Regression Models "
      ],
      "metadata": {
        "id": "E85BnC29jKPP"
      }
    },
    {
      "cell_type": "markdown",
      "source": [
        "##Linear Regression Model"
      ],
      "metadata": {
        "id": "gZ9BeRDPikXR"
      }
    },
    {
      "cell_type": "code",
      "source": [
        "from sklearn.model_selection import train_test_split\n",
        "from sklearn.linear_model import LinearRegression\n",
        "from sklearn.metrics import r2_score, mean_squared_error"
      ],
      "metadata": {
        "id": "L5yY4e-hiovA"
      },
      "execution_count": null,
      "outputs": []
    },
    {
      "cell_type": "code",
      "source": [
        "#make a copy of the original data and drop all the categorical datas and the depedent data to assign it to X.\n",
        "tempDf = df.copy()\n",
        "tempDf.drop(['40 Yard (sec)'], axis=1, inplace = True)\n",
        "tempDf.drop('Name', axis=1, inplace = True)\n",
        "tempDf.drop('POS', axis=1, inplace = True)\n",
        "tempDf.drop('Part of Game', axis = 1, inplace = True)\n",
        "\n",
        "#Assign X and y \n",
        "X = tempDf\n",
        "y = df['40 Yard (sec)']\n",
        "#make the test data's to be 25 percent of the whole dataset.\n",
        "X_train, X_test, y_train, y_test = train_test_split(X,y,test_size = .25)\n",
        "#np.bincount(X_test)"
      ],
      "metadata": {
        "id": "QyTTmJMyisbu"
      },
      "execution_count": null,
      "outputs": []
    },
    {
      "cell_type": "code",
      "source": [
        "tempDf.info()"
      ],
      "metadata": {
        "colab": {
          "base_uri": "https://localhost:8080/"
        },
        "id": "dKgkDADjAtMQ",
        "outputId": "e31cb124-839e-46d3-c646-cf36fa8403cd"
      },
      "execution_count": null,
      "outputs": [
        {
          "output_type": "stream",
          "name": "stdout",
          "text": [
            "<class 'pandas.core.frame.DataFrame'>\n",
            "Int64Index: 9288 entries, 1 to 13229\n",
            "Data columns (total 6 columns):\n",
            " #   Column           Non-Null Count  Dtype  \n",
            "---  ------           --------------  -----  \n",
            " 0   Height (in)      9288 non-null   float64\n",
            " 1   Weight (lbs)     9288 non-null   float64\n",
            " 2   Bench Press      9288 non-null   float64\n",
            " 3   Vert Leap (in)   9288 non-null   float64\n",
            " 4   Broad Jump (in)  9288 non-null   float64\n",
            " 5   Shuttle (sec)    9288 non-null   float64\n",
            "dtypes: float64(6)\n",
            "memory usage: 507.9 KB\n"
          ]
        }
      ]
    },
    {
      "cell_type": "code",
      "source": [
        "#set up the regression\n",
        "lr = LinearRegression()\n",
        "lr.fit(X_train, y_train)"
      ],
      "metadata": {
        "id": "tP9uN0Iii3al",
        "colab": {
          "base_uri": "https://localhost:8080/"
        },
        "outputId": "a03f445d-adeb-4488-e1d9-ac1c51044c08"
      },
      "execution_count": null,
      "outputs": [
        {
          "output_type": "execute_result",
          "data": {
            "text/plain": [
              "LinearRegression()"
            ]
          },
          "metadata": {},
          "execution_count": 66
        }
      ]
    },
    {
      "cell_type": "code",
      "source": [
        "#let's now see how it performs on test data\n",
        "yPredicted = lr.predict(X_test)\n",
        "seePredic = pd.DataFrame({'Test': y_test, 'Predicted': yPredicted})\n",
        "seePredic.head()"
      ],
      "metadata": {
        "id": "bTZYysiqi4-l",
        "colab": {
          "base_uri": "https://localhost:8080/",
          "height": 206
        },
        "outputId": "f3e0301d-87d9-4ea3-f1dd-b6a885d38b96"
      },
      "execution_count": null,
      "outputs": [
        {
          "output_type": "execute_result",
          "data": {
            "text/plain": [
              "           Test  Predicted\n",
              "3367   0.529344   1.032255\n",
              "3018   1.756750   1.346995\n",
              "2849  -1.579277  -1.248725\n",
              "8958   1.284671   1.769661\n",
              "10974 -1.170141  -0.774314"
            ],
            "text/html": [
              "\n",
              "  <div id=\"df-e1a9fdfb-da91-4b9a-afdc-724505660e94\">\n",
              "    <div class=\"colab-df-container\">\n",
              "      <div>\n",
              "<style scoped>\n",
              "    .dataframe tbody tr th:only-of-type {\n",
              "        vertical-align: middle;\n",
              "    }\n",
              "\n",
              "    .dataframe tbody tr th {\n",
              "        vertical-align: top;\n",
              "    }\n",
              "\n",
              "    .dataframe thead th {\n",
              "        text-align: right;\n",
              "    }\n",
              "</style>\n",
              "<table border=\"1\" class=\"dataframe\">\n",
              "  <thead>\n",
              "    <tr style=\"text-align: right;\">\n",
              "      <th></th>\n",
              "      <th>Test</th>\n",
              "      <th>Predicted</th>\n",
              "    </tr>\n",
              "  </thead>\n",
              "  <tbody>\n",
              "    <tr>\n",
              "      <th>3367</th>\n",
              "      <td>0.529344</td>\n",
              "      <td>1.032255</td>\n",
              "    </tr>\n",
              "    <tr>\n",
              "      <th>3018</th>\n",
              "      <td>1.756750</td>\n",
              "      <td>1.346995</td>\n",
              "    </tr>\n",
              "    <tr>\n",
              "      <th>2849</th>\n",
              "      <td>-1.579277</td>\n",
              "      <td>-1.248725</td>\n",
              "    </tr>\n",
              "    <tr>\n",
              "      <th>8958</th>\n",
              "      <td>1.284671</td>\n",
              "      <td>1.769661</td>\n",
              "    </tr>\n",
              "    <tr>\n",
              "      <th>10974</th>\n",
              "      <td>-1.170141</td>\n",
              "      <td>-0.774314</td>\n",
              "    </tr>\n",
              "  </tbody>\n",
              "</table>\n",
              "</div>\n",
              "      <button class=\"colab-df-convert\" onclick=\"convertToInteractive('df-e1a9fdfb-da91-4b9a-afdc-724505660e94')\"\n",
              "              title=\"Convert this dataframe to an interactive table.\"\n",
              "              style=\"display:none;\">\n",
              "        \n",
              "  <svg xmlns=\"http://www.w3.org/2000/svg\" height=\"24px\"viewBox=\"0 0 24 24\"\n",
              "       width=\"24px\">\n",
              "    <path d=\"M0 0h24v24H0V0z\" fill=\"none\"/>\n",
              "    <path d=\"M18.56 5.44l.94 2.06.94-2.06 2.06-.94-2.06-.94-.94-2.06-.94 2.06-2.06.94zm-11 1L8.5 8.5l.94-2.06 2.06-.94-2.06-.94L8.5 2.5l-.94 2.06-2.06.94zm10 10l.94 2.06.94-2.06 2.06-.94-2.06-.94-.94-2.06-.94 2.06-2.06.94z\"/><path d=\"M17.41 7.96l-1.37-1.37c-.4-.4-.92-.59-1.43-.59-.52 0-1.04.2-1.43.59L10.3 9.45l-7.72 7.72c-.78.78-.78 2.05 0 2.83L4 21.41c.39.39.9.59 1.41.59.51 0 1.02-.2 1.41-.59l7.78-7.78 2.81-2.81c.8-.78.8-2.07 0-2.86zM5.41 20L4 18.59l7.72-7.72 1.47 1.35L5.41 20z\"/>\n",
              "  </svg>\n",
              "      </button>\n",
              "      \n",
              "  <style>\n",
              "    .colab-df-container {\n",
              "      display:flex;\n",
              "      flex-wrap:wrap;\n",
              "      gap: 12px;\n",
              "    }\n",
              "\n",
              "    .colab-df-convert {\n",
              "      background-color: #E8F0FE;\n",
              "      border: none;\n",
              "      border-radius: 50%;\n",
              "      cursor: pointer;\n",
              "      display: none;\n",
              "      fill: #1967D2;\n",
              "      height: 32px;\n",
              "      padding: 0 0 0 0;\n",
              "      width: 32px;\n",
              "    }\n",
              "\n",
              "    .colab-df-convert:hover {\n",
              "      background-color: #E2EBFA;\n",
              "      box-shadow: 0px 1px 2px rgba(60, 64, 67, 0.3), 0px 1px 3px 1px rgba(60, 64, 67, 0.15);\n",
              "      fill: #174EA6;\n",
              "    }\n",
              "\n",
              "    [theme=dark] .colab-df-convert {\n",
              "      background-color: #3B4455;\n",
              "      fill: #D2E3FC;\n",
              "    }\n",
              "\n",
              "    [theme=dark] .colab-df-convert:hover {\n",
              "      background-color: #434B5C;\n",
              "      box-shadow: 0px 1px 3px 1px rgba(0, 0, 0, 0.15);\n",
              "      filter: drop-shadow(0px 1px 2px rgba(0, 0, 0, 0.3));\n",
              "      fill: #FFFFFF;\n",
              "    }\n",
              "  </style>\n",
              "\n",
              "      <script>\n",
              "        const buttonEl =\n",
              "          document.querySelector('#df-e1a9fdfb-da91-4b9a-afdc-724505660e94 button.colab-df-convert');\n",
              "        buttonEl.style.display =\n",
              "          google.colab.kernel.accessAllowed ? 'block' : 'none';\n",
              "\n",
              "        async function convertToInteractive(key) {\n",
              "          const element = document.querySelector('#df-e1a9fdfb-da91-4b9a-afdc-724505660e94');\n",
              "          const dataTable =\n",
              "            await google.colab.kernel.invokeFunction('convertToInteractive',\n",
              "                                                     [key], {});\n",
              "          if (!dataTable) return;\n",
              "\n",
              "          const docLinkHtml = 'Like what you see? Visit the ' +\n",
              "            '<a target=\"_blank\" href=https://colab.research.google.com/notebooks/data_table.ipynb>data table notebook</a>'\n",
              "            + ' to learn more about interactive tables.';\n",
              "          element.innerHTML = '';\n",
              "          dataTable['output_type'] = 'display_data';\n",
              "          await google.colab.output.renderOutput(dataTable, element);\n",
              "          const docLink = document.createElement('div');\n",
              "          docLink.innerHTML = docLinkHtml;\n",
              "          element.appendChild(docLink);\n",
              "        }\n",
              "      </script>\n",
              "    </div>\n",
              "  </div>\n",
              "  "
            ]
          },
          "metadata": {},
          "execution_count": 67
        }
      ]
    },
    {
      "cell_type": "markdown",
      "source": [
        "As you can see 5 examples of our predicted data and the actual data are not on point but also not too far off."
      ],
      "metadata": {
        "id": "pBYfwaZMi7C3"
      }
    },
    {
      "cell_type": "code",
      "source": [
        "r2_score(y_test,yPredicted)"
      ],
      "metadata": {
        "id": "dEwRPp0ji8z3",
        "colab": {
          "base_uri": "https://localhost:8080/"
        },
        "outputId": "ddefc5fc-bd43-4a90-9799-647d09ee49ab"
      },
      "execution_count": null,
      "outputs": [
        {
          "output_type": "execute_result",
          "data": {
            "text/plain": [
              "0.8449622445122459"
            ]
          },
          "metadata": {},
          "execution_count": 68
        }
      ]
    },
    {
      "cell_type": "markdown",
      "source": [
        "\n",
        "\n",
        "R-square is a measure to see how close our predicted value is close to the actual values. \n",
        "A zero indicates nothing was predicted correctly and a 1 means it was perfectly predicted. \n",
        "Based on the R2 score, our linear regression model is moderately good."
      ],
      "metadata": {
        "id": "VBbMME3fi-aO"
      }
    },
    {
      "cell_type": "markdown",
      "source": [
        "##Lasso Regression\n"
      ],
      "metadata": {
        "id": "VAlRTSGZxCE1"
      }
    },
    {
      "cell_type": "markdown",
      "source": [
        "Lasso Regression includes L1 penalty this has the effect of shrinking the coefficient for those input variables that do not contributes much to the prediction. "
      ],
      "metadata": {
        "id": "e9Mli149xEfz"
      }
    },
    {
      "cell_type": "code",
      "source": [
        "from sklearn.linear_model import Lasso\n",
        "from sklearn.metrics import mean_squared_error\n",
        "#Assign X and y \n",
        "lassoX = tempDf\n",
        "lassoy = df['40 Yard (sec)']\n",
        "X_train, X_test, y_train, y_test = train_test_split(X,y,test_size = .20, random_state = 0)"
      ],
      "metadata": {
        "id": "nBDOvKdmxDy_"
      },
      "execution_count": null,
      "outputs": []
    },
    {
      "cell_type": "code",
      "source": [
        "#See shapes of train data\n",
        "X_train.shape\n",
        "y_train.shape"
      ],
      "metadata": {
        "colab": {
          "base_uri": "https://localhost:8080/"
        },
        "id": "oqJ_ZNxUxJ-i",
        "outputId": "409f9dff-9a79-49a8-c82e-c46c91033c42"
      },
      "execution_count": null,
      "outputs": [
        {
          "output_type": "execute_result",
          "data": {
            "text/plain": [
              "(7430,)"
            ]
          },
          "metadata": {},
          "execution_count": 70
        }
      ]
    },
    {
      "cell_type": "code",
      "source": [
        "#Set up the regression\n",
        "l = Lasso(alpha=0.5)"
      ],
      "metadata": {
        "id": "QD9hIUP0xKmY"
      },
      "execution_count": null,
      "outputs": []
    },
    {
      "cell_type": "code",
      "source": [
        "#fit data\n",
        "l.fit(X_train, y_train)"
      ],
      "metadata": {
        "colab": {
          "base_uri": "https://localhost:8080/"
        },
        "id": "qK8qbtkDxMKH",
        "outputId": "f5117b61-f600-4595-f14f-54edadf849f2"
      },
      "execution_count": null,
      "outputs": [
        {
          "output_type": "execute_result",
          "data": {
            "text/plain": [
              "Lasso(alpha=0.5)"
            ]
          },
          "metadata": {},
          "execution_count": 72
        }
      ]
    },
    {
      "cell_type": "code",
      "source": [
        "#See coefficients\n",
        "i = 0\n",
        "for j in tempDf:\n",
        "  print('Coefficients for ', j,' is :', l.coef_[i])\n",
        "  i=i+1"
      ],
      "metadata": {
        "colab": {
          "base_uri": "https://localhost:8080/"
        },
        "id": "qfGjNwWxxNwu",
        "outputId": "57b8c62c-2b06-4a33-d345-dafb4e6f89e2"
      },
      "execution_count": null,
      "outputs": [
        {
          "output_type": "stream",
          "name": "stdout",
          "text": [
            "Coefficients for  Height (in)  is : 0.0\n",
            "Coefficients for  Weight (lbs)  is : 0.33395140365991705\n",
            "Coefficients for  Bench Press  is : 0.0\n",
            "Coefficients for  Vert Leap (in)  is : -0.01816258033217508\n",
            "Coefficients for  Broad Jump (in)  is : -0.02293692276149619\n",
            "Coefficients for  Shuttle (sec)  is : 0.0\n"
          ]
        }
      ]
    },
    {
      "cell_type": "markdown",
      "source": [
        "Here I displayed the coefficients for our lasso regression model variables. Some informations I gather from the coefficient number are that the longer someones 40-yard dash time,  the heavier the player seems to be. Also the shorter the 40-yard-dash time the longer the player’s vertical leap and broad jumps are. This information is in line with what we gathered from the correlation matrix, which is good. \n"
      ],
      "metadata": {
        "id": "9SMHOLM9xTMp"
      }
    },
    {
      "cell_type": "code",
      "source": [
        "#Predict the data\n",
        "yPredicted = l.predict(X_test)"
      ],
      "metadata": {
        "id": "mDvSmbh-xVHj"
      },
      "execution_count": null,
      "outputs": []
    },
    {
      "cell_type": "code",
      "source": [
        "#See mse\n",
        "mean_squared_error(y_test, yPredicted)"
      ],
      "metadata": {
        "colab": {
          "base_uri": "https://localhost:8080/"
        },
        "id": "mvXWFleXxVsz",
        "outputId": "5d046afa-a682-464b-ecaa-1b4ece736724"
      },
      "execution_count": null,
      "outputs": [
        {
          "output_type": "execute_result",
          "data": {
            "text/plain": [
              "0.5012713611599507"
            ]
          },
          "metadata": {},
          "execution_count": 75
        }
      ]
    },
    {
      "cell_type": "markdown",
      "source": [
        "The MSE tells you how close the regression line is to a set of points, it does this by taking the distances from those points to the regression lines. These distances are called errors. Then those errors are squared to remove any negative signs. It is called the Mean Squared Error because we are finding the average of set of errors. The lower the MSE the better our model and better it predicts.The lowest a mse score can go is 0, and that means the model is perfect. As you can see our MSE is below 2 which is not too far off. "
      ],
      "metadata": {
        "id": "5wygYv1Fxh2p"
      }
    },
    {
      "cell_type": "code",
      "source": [
        "r2_score(y_test,yPredicted)"
      ],
      "metadata": {
        "colab": {
          "base_uri": "https://localhost:8080/"
        },
        "id": "YhR5pTzExXJP",
        "outputId": "3dda15ab-db71-4241-debd-db3553c93d3f"
      },
      "execution_count": null,
      "outputs": [
        {
          "output_type": "execute_result",
          "data": {
            "text/plain": [
              "0.49911266740239113"
            ]
          },
          "metadata": {},
          "execution_count": 76
        }
      ]
    },
    {
      "cell_type": "markdown",
      "source": [
        "Based on the R2 score, our linear regression model did not so good. However we also have to take into account that lasso regression model used only 3 features while linear regression used 6 features."
      ],
      "metadata": {
        "id": "iE5EXjYRxlNe"
      }
    },
    {
      "cell_type": "markdown",
      "source": [
        "## Decision Tree Regressor\n",
        "Decision Tree is a decision-making tool that uses a flow chart like tree structure. It works for both continuous as well as categorical output variables.\n",
        "It can be used as a classifier or regressor.\n",
        "Decision Tree Regressor observes features of an object and trains a model in the structure of a tree to predict data in the future to produce meaningful output.\n",
        "\n"
      ],
      "metadata": {
        "id": "u0suK-cBRbOn"
      }
    },
    {
      "cell_type": "code",
      "source": [
        " # decision tree for feature importance on a regression problem\n",
        "from sklearn.datasets import make_regression\n",
        "from sklearn.tree import DecisionTreeRegressor\n",
        "from matplotlib import pyplot\n",
        "# define dataset\n",
        "tempDf = df.copy()\n",
        "tempDf.drop(['40 Yard (sec)'], axis=1, inplace = True)\n",
        "tempDf.drop('Name', axis=1, inplace = True)\n",
        "tempDf.drop('POS', axis=1, inplace = True)\n",
        "tempDf.drop('Part of Game', axis=1, inplace = True)\n",
        "X = tempDf\n",
        "y = df['40 Yard (sec)']\n",
        "\n",
        "from sklearn.model_selection import train_test_split\n",
        "X_train, X_test, y_train, y_test = train_test_split(X, y, test_size = 0.2)\n",
        "# Fitting Decision Tree Regression to the dataset\n",
        "from sklearn.tree import DecisionTreeRegressor\n",
        "regressor = DecisionTreeRegressor()\n",
        "regressor.fit(X_train, y_train)\n",
        "yPredicted = regressor.predict(X_test)\n",
        "seePredic = pd.DataFrame({'Test': y_test, 'Predicted': yPredicted})\n",
        "seePredic.head()\n"
      ],
      "metadata": {
        "id": "HSqryJCxRfkV",
        "colab": {
          "base_uri": "https://localhost:8080/",
          "height": 206
        },
        "outputId": "63b1b036-af09-4e40-9807-f64ad867cb0c"
      },
      "execution_count": null,
      "outputs": [
        {
          "output_type": "execute_result",
          "data": {
            "text/plain": [
              "           Test  Predicted\n",
              "12224 -0.446286  -0.540702\n",
              "11836 -0.068623  -1.201613\n",
              "12932  0.120209  -0.163039\n",
              "1580   0.183153   0.088737\n",
              "5986  -1.579277  -1.075725"
            ],
            "text/html": [
              "\n",
              "  <div id=\"df-6de5e913-b02c-4af7-a13b-2c855ec32f52\">\n",
              "    <div class=\"colab-df-container\">\n",
              "      <div>\n",
              "<style scoped>\n",
              "    .dataframe tbody tr th:only-of-type {\n",
              "        vertical-align: middle;\n",
              "    }\n",
              "\n",
              "    .dataframe tbody tr th {\n",
              "        vertical-align: top;\n",
              "    }\n",
              "\n",
              "    .dataframe thead th {\n",
              "        text-align: right;\n",
              "    }\n",
              "</style>\n",
              "<table border=\"1\" class=\"dataframe\">\n",
              "  <thead>\n",
              "    <tr style=\"text-align: right;\">\n",
              "      <th></th>\n",
              "      <th>Test</th>\n",
              "      <th>Predicted</th>\n",
              "    </tr>\n",
              "  </thead>\n",
              "  <tbody>\n",
              "    <tr>\n",
              "      <th>12224</th>\n",
              "      <td>-0.446286</td>\n",
              "      <td>-0.540702</td>\n",
              "    </tr>\n",
              "    <tr>\n",
              "      <th>11836</th>\n",
              "      <td>-0.068623</td>\n",
              "      <td>-1.201613</td>\n",
              "    </tr>\n",
              "    <tr>\n",
              "      <th>12932</th>\n",
              "      <td>0.120209</td>\n",
              "      <td>-0.163039</td>\n",
              "    </tr>\n",
              "    <tr>\n",
              "      <th>1580</th>\n",
              "      <td>0.183153</td>\n",
              "      <td>0.088737</td>\n",
              "    </tr>\n",
              "    <tr>\n",
              "      <th>5986</th>\n",
              "      <td>-1.579277</td>\n",
              "      <td>-1.075725</td>\n",
              "    </tr>\n",
              "  </tbody>\n",
              "</table>\n",
              "</div>\n",
              "      <button class=\"colab-df-convert\" onclick=\"convertToInteractive('df-6de5e913-b02c-4af7-a13b-2c855ec32f52')\"\n",
              "              title=\"Convert this dataframe to an interactive table.\"\n",
              "              style=\"display:none;\">\n",
              "        \n",
              "  <svg xmlns=\"http://www.w3.org/2000/svg\" height=\"24px\"viewBox=\"0 0 24 24\"\n",
              "       width=\"24px\">\n",
              "    <path d=\"M0 0h24v24H0V0z\" fill=\"none\"/>\n",
              "    <path d=\"M18.56 5.44l.94 2.06.94-2.06 2.06-.94-2.06-.94-.94-2.06-.94 2.06-2.06.94zm-11 1L8.5 8.5l.94-2.06 2.06-.94-2.06-.94L8.5 2.5l-.94 2.06-2.06.94zm10 10l.94 2.06.94-2.06 2.06-.94-2.06-.94-.94-2.06-.94 2.06-2.06.94z\"/><path d=\"M17.41 7.96l-1.37-1.37c-.4-.4-.92-.59-1.43-.59-.52 0-1.04.2-1.43.59L10.3 9.45l-7.72 7.72c-.78.78-.78 2.05 0 2.83L4 21.41c.39.39.9.59 1.41.59.51 0 1.02-.2 1.41-.59l7.78-7.78 2.81-2.81c.8-.78.8-2.07 0-2.86zM5.41 20L4 18.59l7.72-7.72 1.47 1.35L5.41 20z\"/>\n",
              "  </svg>\n",
              "      </button>\n",
              "      \n",
              "  <style>\n",
              "    .colab-df-container {\n",
              "      display:flex;\n",
              "      flex-wrap:wrap;\n",
              "      gap: 12px;\n",
              "    }\n",
              "\n",
              "    .colab-df-convert {\n",
              "      background-color: #E8F0FE;\n",
              "      border: none;\n",
              "      border-radius: 50%;\n",
              "      cursor: pointer;\n",
              "      display: none;\n",
              "      fill: #1967D2;\n",
              "      height: 32px;\n",
              "      padding: 0 0 0 0;\n",
              "      width: 32px;\n",
              "    }\n",
              "\n",
              "    .colab-df-convert:hover {\n",
              "      background-color: #E2EBFA;\n",
              "      box-shadow: 0px 1px 2px rgba(60, 64, 67, 0.3), 0px 1px 3px 1px rgba(60, 64, 67, 0.15);\n",
              "      fill: #174EA6;\n",
              "    }\n",
              "\n",
              "    [theme=dark] .colab-df-convert {\n",
              "      background-color: #3B4455;\n",
              "      fill: #D2E3FC;\n",
              "    }\n",
              "\n",
              "    [theme=dark] .colab-df-convert:hover {\n",
              "      background-color: #434B5C;\n",
              "      box-shadow: 0px 1px 3px 1px rgba(0, 0, 0, 0.15);\n",
              "      filter: drop-shadow(0px 1px 2px rgba(0, 0, 0, 0.3));\n",
              "      fill: #FFFFFF;\n",
              "    }\n",
              "  </style>\n",
              "\n",
              "      <script>\n",
              "        const buttonEl =\n",
              "          document.querySelector('#df-6de5e913-b02c-4af7-a13b-2c855ec32f52 button.colab-df-convert');\n",
              "        buttonEl.style.display =\n",
              "          google.colab.kernel.accessAllowed ? 'block' : 'none';\n",
              "\n",
              "        async function convertToInteractive(key) {\n",
              "          const element = document.querySelector('#df-6de5e913-b02c-4af7-a13b-2c855ec32f52');\n",
              "          const dataTable =\n",
              "            await google.colab.kernel.invokeFunction('convertToInteractive',\n",
              "                                                     [key], {});\n",
              "          if (!dataTable) return;\n",
              "\n",
              "          const docLinkHtml = 'Like what you see? Visit the ' +\n",
              "            '<a target=\"_blank\" href=https://colab.research.google.com/notebooks/data_table.ipynb>data table notebook</a>'\n",
              "            + ' to learn more about interactive tables.';\n",
              "          element.innerHTML = '';\n",
              "          dataTable['output_type'] = 'display_data';\n",
              "          await google.colab.output.renderOutput(dataTable, element);\n",
              "          const docLink = document.createElement('div');\n",
              "          docLink.innerHTML = docLinkHtml;\n",
              "          element.appendChild(docLink);\n",
              "        }\n",
              "      </script>\n",
              "    </div>\n",
              "  </div>\n",
              "  "
            ]
          },
          "metadata": {},
          "execution_count": 77
        }
      ]
    },
    {
      "cell_type": "code",
      "source": [
        "r2_score(y_test,yPredicted)"
      ],
      "metadata": {
        "colab": {
          "base_uri": "https://localhost:8080/"
        },
        "id": "-UltuLRoO6P6",
        "outputId": "dd322563-1743-4826-acaa-f13aeb17eedc"
      },
      "execution_count": null,
      "outputs": [
        {
          "output_type": "execute_result",
          "data": {
            "text/plain": [
              "0.6885962388669595"
            ]
          },
          "metadata": {},
          "execution_count": 78
        }
      ]
    },
    {
      "cell_type": "markdown",
      "source": [
        "##Conlusion for the best model\n",
        "\n",
        "\n",
        "Comparing our regression models , we conclude that the linear regression model which had the r-squared value of 83%, in comparison to the lasso regression model which had the r-squared value of 49%, and the decision tree regression model which had the r-squared value of  70% the  linear regression model  did much better in predicting the actual values of the data. Therefore, we think the linear regression model is the best model among the three models for our dataset \n",
        "\n"
      ],
      "metadata": {
        "id": "1ddxfM_1WszP"
      }
    },
    {
      "cell_type": "markdown",
      "source": [
        "## Conclusion\n",
        "After the research, prepping,  cleaning, modeling and testing; we have come to the conclusion that there is a strong correlation with the 40 yard dash and weight. The data also points to a moderate correlation between the 40 yard dash and height; as well as a moderate correlation between the 40 yard dash and the shuttle.\n",
        "\n",
        "Although more tests should be run in order to validate these findings, this may be a a treasure trove for scouts looking for that edge and for planners of the NFL combine to potentially invite diamonds-in-the-rough from some of the lesser known collegiate programs. \n",
        "\n",
        "The correlation here makes sense because sprinters who are lighter tend to be faster.Although there are anomalies(i.e DK Metcalf), it seems that the general adage holds true.\n",
        "\n",
        "The findings on height is slightly surprising. There are a handful of taller sprinters but in general it may be that a low-center of gravity is more conducive to top-end speed. The shuttle is the most important find because the shuttle is a true test of agility and quick pivoting. If these two tie in well, scouts can use this information to make better decisions on prospects."
      ],
      "metadata": {
        "id": "j_MIPlFpWwmU"
      }
    },
    {
      "cell_type": "markdown",
      "source": [
        "<h2>References</h2>\n",
        "\n",
        "https://www.rookieroad.com/football/positions/positions-guide/\n",
        "\n",
        "https://bleacherreport.com/articles/1537023-the-anatomy-and-importance-of-the-40-yard-dash\n",
        "\n",
        "https://machinelearningmastery.com/calculate-feature-importance-with-python/\n",
        "\n",
        "https://towardsdatascience.com/machine-learning-basics-decision-tree-regression-1d73ea003fda\n"
      ],
      "metadata": {
        "id": "6-0pGH-J7FPh"
      }
    }
  ]
}